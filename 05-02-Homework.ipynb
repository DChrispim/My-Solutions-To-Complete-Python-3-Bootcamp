{
 "cells": [
  {
   "cell_type": "markdown",
   "metadata": {},
   "source": [
    "# 05-02-Homework"
   ]
  },
  {
   "cell_type": "markdown",
   "metadata": {},
   "source": [
    "___\n",
    "## Question 1\n",
    "\n",
    "Construct an line class that\n",
    "\n",
    "- Accept coordinates as a pair of tuples\n",
    "- Has a method that returns the slope\n",
    "- Has a method that returns the distance of the line.\n"
   ]
  },
  {
   "cell_type": "code",
   "execution_count": 23,
   "metadata": {},
   "outputs": [
    {
     "name": "stdout",
     "output_type": "stream",
     "text": [
      "Overwriting programs/05-02-Homework/line_class.py\n"
     ]
    }
   ],
   "source": [
    "%%writefile \"programs/05-02-Homework/line_class.py\"\n",
    "class Line:\n",
    "    \n",
    "    def __init__(self, coor1, coor2):\n",
    "        \"\"\"\n",
    "        Initialize a Line object.\n",
    "\n",
    "        param coor1: Position (tuple x1, y1) of the first point\n",
    "        param coor2: Position (tuple x2, y2) of the second point\n",
    "        \"\"\"\n",
    "        self.x1, self.y1 = coor1\n",
    "        self.x2, self.y2 = coor2\n",
    "    \n",
    "    def distance(self):\n",
    "        \"\"\"\n",
    "        Calculate the distance between coor1 and coor2\n",
    "        \"\"\"\n",
    "        return ((self.x1 - self.x2) ** 2 + (self.y1 - self.y2) ** 2) ** 0.5\n",
    "    \n",
    "    def slope(self):\n",
    "        \"\"\"\n",
    "        Calculate the slope of the line that connects coor1 and coor2\n",
    "        \"\"\"\n",
    "        if self.x1 == self.x2:\n",
    "            return float('inf')  # Vertical line\n",
    "        return (self.y1 - self.y2) / (self.x1 - self.x2)\n"
   ]
  },
  {
   "cell_type": "code",
   "execution_count": 24,
   "metadata": {},
   "outputs": [
    {
     "name": "stdout",
     "output_type": "stream",
     "text": [
      "Overwriting programs/05-02-Homework/test_line_class.py\n"
     ]
    }
   ],
   "source": [
    "%%writefile \"programs/05-02-Homework/test_line_class.py\"\n",
    "import unittest\n",
    "from line_class import *\n",
    "\n",
    "class TestLine(unittest.TestCase):\n",
    "\n",
    "    def test_distance(self):\n",
    "        line1 = Line((0, 0), (3, 4)) \n",
    "        self.assertAlmostEqual(line1.distance(), 5.0, places=6)\n",
    "\n",
    "        line2 = Line((1, 1), (4, 5)) \n",
    "        self.assertAlmostEqual(line2.distance(), 5.0, places=6)\n",
    "\n",
    "        line3 = Line((3, 2), (8, 10))\n",
    "        self.assertAlmostEqual(line3.distance(), 9.4339811, places=6)\n",
    "\n",
    "    def test_slope(self):\n",
    "        line1 = Line((3, 2), (8, 10))\n",
    "        self.assertEqual(line1.slope(), 1.6)\n",
    "\n",
    "        line2 = Line((1, 1), (1, 4))\n",
    "        self.assertEqual(line2.slope(), float('inf'))\n",
    "\n",
    "        line3 = Line((0, 0), (1, 0))\n",
    "        self.assertEqual(line3.slope(), 0)\n",
    "\n",
    "if __name__ == '__main__':\n",
    "    unittest.main()\n"
   ]
  },
  {
   "cell_type": "code",
   "execution_count": 25,
   "metadata": {},
   "outputs": [
    {
     "name": "stderr",
     "output_type": "stream",
     "text": [
      "..\n",
      "----------------------------------------------------------------------\n",
      "Ran 2 tests in 0.000s\n",
      "\n",
      "OK\n"
     ]
    }
   ],
   "source": [
    "! python3 \"programs/05-02-Homework/test_line_class.py\""
   ]
  },
  {
   "cell_type": "markdown",
   "metadata": {},
   "source": [
    "---\n",
    "\n",
    "## Question 2\n",
    "\n",
    "Construct an cylinder class that\n",
    "\n",
    "- Accept height and radius as a tuple\n",
    "- Has a method that returns the volume\n",
    "- Has a method that returns the surface area"
   ]
  },
  {
   "cell_type": "code",
   "execution_count": 26,
   "metadata": {},
   "outputs": [
    {
     "name": "stdout",
     "output_type": "stream",
     "text": [
      "Overwriting programs/05-02-Homework/cylinder_class.py\n"
     ]
    }
   ],
   "source": [
    "%%writefile \"programs/05-02-Homework/cylinder_class.py\"\n",
    "import math\n",
    "\n",
    "class Cylinder:\n",
    "\n",
    "    def __init__(self, height=1, radius=1):\n",
    "        \"\"\"\n",
    "        Initialize a Cylinder object.\n",
    "\n",
    "        param height: Height of the cylinder (default is 1)\n",
    "        param radius: Radius of the cylinder (default is 1)\n",
    "        \"\"\"\n",
    "        self.height = height\n",
    "        self.radius = radius\n",
    "\n",
    "    def volume(self):\n",
    "        \"\"\"\n",
    "        Calculate the volume of the cylinder.\n",
    "        \"\"\"\n",
    "        return math.pi * self.height * self.radius ** 2\n",
    "\n",
    "    def surface_area(self):\n",
    "        \"\"\"\n",
    "        Calculate the surface area of the cylinder.\n",
    "        \"\"\"\n",
    "        return 2 * math.pi * self.radius * (self.height + self.radius)\n"
   ]
  },
  {
   "cell_type": "code",
   "execution_count": 50,
   "metadata": {},
   "outputs": [
    {
     "name": "stdout",
     "output_type": "stream",
     "text": [
      "Overwriting programs/05-02-Homework/test_cylinder_class.py\n"
     ]
    }
   ],
   "source": [
    "%%writefile \"programs/05-02-Homework/test_cylinder_class.py\"\n",
    "\n",
    "import unittest\n",
    "from cylinder_class import *\n",
    "\n",
    "class TestCylinder(unittest.TestCase):\n",
    "\n",
    "    def test_volume(self):\n",
    "        # Test with default values\n",
    "        cylinder1 = Cylinder()\n",
    "        self.assertAlmostEqual(cylinder1.volume(), math.pi)\n",
    "\n",
    "        # Test with custom values\n",
    "        cylinder2 = Cylinder(height=3, radius=2)\n",
    "        self.assertAlmostEqual(cylinder2.volume(), 37.6991, 4)\n",
    "\n",
    "    def test_surface_area(self):\n",
    "        # Test with default values\n",
    "        cylinder1 = Cylinder()\n",
    "        self.assertAlmostEqual(cylinder1.surface_area(), 4 * math.pi)  # Surface area of a unit cylinder is 4pi\n",
    "\n",
    "        # Test with custom values\n",
    "        cylinder2 = Cylinder(height=3, radius=2)\n",
    "        self.assertAlmostEqual(cylinder2.surface_area(), 62.8318, 3)  # Surface area of cylinder with height=3 and radius=2\n",
    "\n",
    "if __name__ == '__main__':\n",
    "    unittest.main()\n"
   ]
  },
  {
   "cell_type": "code",
   "execution_count": 51,
   "metadata": {},
   "outputs": [
    {
     "name": "stderr",
     "output_type": "stream",
     "text": [
      "..\n",
      "----------------------------------------------------------------------\n",
      "Ran 2 tests in 0.000s\n",
      "\n",
      "OK\n"
     ]
    }
   ],
   "source": [
    "! python3 \"programs/05-02-Homework/test_cylinder_class.py\""
   ]
  }
 ],
 "metadata": {
  "kernelspec": {
   "display_name": "TensorFlowGPU",
   "language": "python",
   "name": "tf_gpu"
  },
  "language_info": {
   "codemirror_mode": {
    "name": "ipython",
    "version": 3
   },
   "file_extension": ".py",
   "mimetype": "text/x-python",
   "name": "python",
   "nbconvert_exporter": "python",
   "pygments_lexer": "ipython3",
   "version": "3.8.0"
  }
 },
 "nbformat": 4,
 "nbformat_minor": 1
}
