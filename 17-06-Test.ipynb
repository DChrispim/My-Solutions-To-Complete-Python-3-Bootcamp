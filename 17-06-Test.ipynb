{
 "cells": [
  {
   "cell_type": "markdown",
   "metadata": {},
   "source": [
    "# 17-06-Test"
   ]
  },
  {
   "cell_type": "markdown",
   "metadata": {},
   "source": [
    "___\n",
    "## Problem 1\n",
    "Convert <code>1024</code> to binary and hexadecimal representation."
   ]
  },
  {
   "cell_type": "code",
   "execution_count": 4,
   "metadata": {},
   "outputs": [
    {
     "name": "stdout",
     "output_type": "stream",
     "text": [
      "The number 1024 in hexadecimal is 0x400\n",
      "The number 1024 in binary is 0b10000000000\n"
     ]
    }
   ],
   "source": [
    "num = 1024\n",
    "\n",
    "print(f\"The number {num} in hexadecimal is {hex(num)}\")\n",
    "print(f\"The number {num} in binary is {bin(num)}\")"
   ]
  },
  {
   "cell_type": "markdown",
   "metadata": {},
   "source": [
    "___\n",
    "## Problem 2\n",
    "Round 5.23222 to two decimal places"
   ]
  },
  {
   "cell_type": "code",
   "execution_count": 5,
   "metadata": {},
   "outputs": [
    {
     "name": "stdout",
     "output_type": "stream",
     "text": [
      "The number 5.23222 rounded to two decimals places is 5.23\n"
     ]
    }
   ],
   "source": [
    "num = 5.23222\n",
    "\n",
    "print(f\"The number {num} rounded to two decimals places is {round(num,2)}\")"
   ]
  },
  {
   "cell_type": "markdown",
   "metadata": {},
   "source": [
    "___\n",
    "## Problem 3\n",
    "Check if every letter in the strings\n",
    "    \n",
    "    s1 = 'hello how are you Mary, are you feeling okay?'\n",
    "    s2 = 'hello word!'\n",
    "\n",
    "is lower case."
   ]
  },
  {
   "cell_type": "code",
   "execution_count": 7,
   "metadata": {},
   "outputs": [
    {
     "name": "stdout",
     "output_type": "stream",
     "text": [
      "Is the string s1 = 'hello how are you Mary, are you feeling okay?' all in lower case? False\n",
      "Is the string s2 = 'hello world!' all in lower case? True\n"
     ]
    }
   ],
   "source": [
    "s1 = 'hello how are you Mary, are you feeling okay?'\n",
    "s2 = 'hello world!'\n",
    "\n",
    "print(f\"Is the string s1 = '{s1}' all in lower case? {s1.islower()}\")\n",
    "print(f\"Is the string s2 = '{s2}' all in lower case? {s2.islower()}\")"
   ]
  },
  {
   "cell_type": "markdown",
   "metadata": {},
   "source": [
    "___\n",
    "## Problem 4\n",
    "Count how many times the letter 'w' show up in the string\n",
    "\n",
    "    s3 = 'twywywtwywbwhsjhwuwshshwuwwwjdjdid'"
   ]
  },
  {
   "cell_type": "code",
   "execution_count": 13,
   "metadata": {},
   "outputs": [
    {
     "name": "stdout",
     "output_type": "stream",
     "text": [
      "How many times the letter 'w' appears in the string s3 = 'twywywtwywbwhsjhwuwshshwuwwwjdjdid'? 12\n"
     ]
    }
   ],
   "source": [
    "s3 = 'twywywtwywbwhsjhwuwshshwuwwwjdjdid'\n",
    "print(f\"How many times the letter 'w' appears in the string s3 = '{s3}'? {s3.count('w')}\")"
   ]
  },
  {
   "cell_type": "markdown",
   "metadata": {},
   "source": [
    "___\n",
    "## Problem 5\n",
    "Find the elements that are in the set\n",
    "\n",
    "    set1 = {2,3,1,5,6,8}\n",
    "\n",
    "but not in the set\n",
    "\n",
    "    set2 = {3,1,7,5,6,8}\n"
   ]
  },
  {
   "cell_type": "code",
   "execution_count": 16,
   "metadata": {},
   "outputs": [
    {
     "name": "stdout",
     "output_type": "stream",
     "text": [
      "What are the elements that are in set1 = {1, 2, 3, 5, 6, 8} and not in set2 = {1, 3, 5, 6, 7, 8}? {2}\n"
     ]
    }
   ],
   "source": [
    "set1 = {2,3,1,5,6,8}\n",
    "set2 = {3,1,7,5,6,8}\n",
    "set_diff = set1.difference(set2)\n",
    "\n",
    "print(f\"What are the elements that are in set1 = {set1} and not in set2 = {set2}? {set_diff}\")"
   ]
  },
  {
   "cell_type": "markdown",
   "metadata": {},
   "source": [
    "___\n",
    "## Problem 6\n",
    "Find all elements that are in either sets\n",
    "\n",
    "    set3 = {2,3,1,5,6,8}\n",
    "    set4 = {3,1,7,5,6,8}"
   ]
  },
  {
   "cell_type": "code",
   "execution_count": 17,
   "metadata": {},
   "outputs": [
    {
     "name": "stdout",
     "output_type": "stream",
     "text": [
      "What are the elements that are in set3 = {1, 2, 3, 5, 6, 8} and in set4 = {1, 3, 5, 6, 7, 8}? {1, 2, 3, 5, 6, 7, 8}\n"
     ]
    }
   ],
   "source": [
    "set3 = {2,3,1,5,6,8}\n",
    "set4 = {3,1,7,5,6,8}\n",
    "set_union = set1.union(set2)\n",
    "\n",
    "print(f\"What are the elements that are in set3 = {set3} and in set4 = {set4}? {set_union}\")"
   ]
  },
  {
   "cell_type": "markdown",
   "metadata": {},
   "source": [
    "___\n",
    "## Problem 7\n",
    "Create this dictionary:\n",
    "\n",
    "    dict = {0: 0, 1: 1, 2: 8, 3: 27, 4: 64}\n",
    "\n",
    "using a dictionary comprehension"
   ]
  },
  {
   "cell_type": "code",
   "execution_count": 20,
   "metadata": {},
   "outputs": [
    {
     "name": "stdout",
     "output_type": "stream",
     "text": [
      "{0: 0, 1: 1, 2: 8, 3: 27, 4: 64}\n"
     ]
    }
   ],
   "source": [
    "dict = {x:x**3 for x in range(5)}\n",
    "print(dict)"
   ]
  },
  {
   "cell_type": "markdown",
   "metadata": {},
   "source": [
    "___\n",
    "## Problem 8\n",
    "Reverse the list\n",
    "\n",
    "    list1 = [1,2,3,4]\n"
   ]
  },
  {
   "cell_type": "code",
   "execution_count": 30,
   "metadata": {},
   "outputs": [
    {
     "name": "stdout",
     "output_type": "stream",
     "text": [
      "The reverse of the list [1, 2, 3, 4] is [4, 3, 2, 1]\n"
     ]
    }
   ],
   "source": [
    "list1 = [1,2,3,4]\n",
    "\n",
    "print(f\"The reverse of the list {list1} is {list1[::-1]}\")"
   ]
  },
  {
   "cell_type": "markdown",
   "metadata": {},
   "source": [
    "___\n",
    "## Problem 9\n",
    "Sort the list\n",
    "\n",
    "    list2 = [3,4,2,5,1]\n"
   ]
  },
  {
   "cell_type": "code",
   "execution_count": 31,
   "metadata": {},
   "outputs": [
    {
     "name": "stdout",
     "output_type": "stream",
     "text": [
      "The sorted version of the list [3, 4, 2, 5, 1] is [1, 2, 3, 4, 5]\n"
     ]
    }
   ],
   "source": [
    "list2 = [3,4,2,5,1]\n",
    "\n",
    "print(f\"The sorted version of the list {list2} is {sorted(list2)}\")"
   ]
  }
 ],
 "metadata": {
  "kernelspec": {
   "display_name": "Python 3 (ipykernel)",
   "language": "python",
   "name": "python3"
  },
  "language_info": {
   "codemirror_mode": {
    "name": "ipython",
    "version": 3
   },
   "file_extension": ".py",
   "mimetype": "text/x-python",
   "name": "python",
   "nbconvert_exporter": "python",
   "pygments_lexer": "ipython3",
   "version": "3.8.0"
  }
 },
 "nbformat": 4,
 "nbformat_minor": 1
}
