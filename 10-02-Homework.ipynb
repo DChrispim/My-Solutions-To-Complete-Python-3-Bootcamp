{
 "cells": [
  {
   "cell_type": "markdown",
   "metadata": {},
   "source": [
    "# 10-02-Homework\n",
    "\n",
    "A framework is a type of software library that provides generic functionality which can be extended by the programmer to build applications. A framework is distinguished from a simple library or API. An API is a piece of software that a developer can use in his or her application. A framework is more encompassing: your entire application is structured around the framework (i.e. it provides the framework around which you build your software). Flask and Django are good examples of frameworks intended for web development.\n",
    "\n",
    "Develop one implementation of one (or both) framework:\n",
    "\n",
    "- Flask\n",
    "     - [Flask](http://flask.pocoo.org/)\n",
    "     - [Decorators](http://flask.pocoo.org/docs/0.12/patterns/viewdecorators/)\n",
    " - Django\n",
    "    - [Django](https://www.djangoproject.com/)"
   ]
  },
  {
   "cell_type": "markdown",
   "metadata": {},
   "source": []
  }
 ],
 "metadata": {
  "kernelspec": {
   "display_name": "Python 3 (ipykernel)",
   "language": "python",
   "name": "python3"
  },
  "language_info": {
   "codemirror_mode": {
    "name": "ipython",
    "version": 3
   },
   "file_extension": ".py",
   "mimetype": "text/x-python",
   "name": "python",
   "nbconvert_exporter": "python",
   "pygments_lexer": "ipython3",
   "version": "3.9.12"
  }
 },
 "nbformat": 4,
 "nbformat_minor": 1
}
