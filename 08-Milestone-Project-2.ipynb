{
 "cells": [
  {
   "cell_type": "markdown",
   "metadata": {},
   "source": [
    "# 08-01-Milestone-Project-2\n"
   ]
  },
  {
   "cell_type": "markdown",
   "metadata": {},
   "source": [
    "Assignment: Create a Complete BlackJack Card Game in Python.\n",
    "\n",
    "Here are the requirements:\n",
    "\n",
    "- You need to create a simple text-based [BlackJack](https://en.wikipedia.org/wiki/Blackjack) game\n",
    "- The game needs to have one player versus an automated dealer.\n",
    "- The player can stand or hit.\n",
    "- The player must be able to pick their betting amount.\n",
    "- You need to keep track of the player's total money.\n",
    "- You need to alert the player of wins, losses, or busts, etc...\n",
    "- You must use OOP and classes in some portion of your game. You can not just use functions in your game. Use classes to help you define the Deck and the Player's hand.\n"
   ]
  },
  {
   "cell_type": "markdown",
   "metadata": {},
   "source": [
    "___\n",
    "# Solution"
   ]
  },
  {
   "cell_type": "markdown",
   "metadata": {},
   "source": [
    "## Deck class"
   ]
  },
  {
   "cell_type": "code",
   "execution_count": 73,
   "metadata": {},
   "outputs": [
    {
     "name": "stdout",
     "output_type": "stream",
     "text": [
      "Overwriting programs/08-Milestone-Project-2/Deck_class.py\n"
     ]
    }
   ],
   "source": [
    "%%writefile \"programs/08-Milestone-Project-2/Deck_class.py\"\n",
    "# imports\n",
    "import random\n",
    "\n",
    "# definitions\n",
    "suits = ('Hearts', 'Diamonds', 'Spades', 'Clubs')\n",
    "ranks = ('Two', 'Three', 'Four', 'Five', 'Six', 'Seven',\n",
    "         'Eight', 'Nine', 'Ten', 'Jack', 'Queen', 'King', 'Ace')\n",
    "# definitions\n",
    "values = {'Two': 2, 'Three': 3, 'Four': 4, 'Five': 5, 'Six': 6, 'Seven': 7,\n",
    "          'Eight': 8, 'Nine': 9, 'Ten': 10, 'Jack': 10, 'Queen': 10, 'King': 10, 'Ace': 11}\n",
    "          \n",
    "class Deck:\n",
    "\n",
    "    def __init__(self):\n",
    "        self.all_cards = []\n",
    "\n",
    "        # Use Card class to populate deck\n",
    "        for suit in suits:\n",
    "            for rank in ranks:\n",
    "                self.all_cards.append(Card(suit, rank))\n",
    "\n",
    "    def shuffle(self):\n",
    "        random.shuffle(self.all_cards)\n",
    "\n",
    "    def deal(self):\n",
    "        return self.all_cards.pop()\n",
    "\n",
    "    def __str__(self):\n",
    "        card_list = [str(card) for card in self.all_cards]\n",
    "        return f\"[{' | '.join(card_list)}]\"\n",
    "\n",
    "\n",
    "class Card:\n",
    "\n",
    "    def __init__(self, suit, rank):\n",
    "        self.suit = suit\n",
    "        self.rank = rank\n",
    "\n",
    "    def __str__(self):\n",
    "        return f\"{self.rank} of {self.suit}\""
   ]
  },
  {
   "cell_type": "markdown",
   "metadata": {},
   "source": [
    "### Test Deck class"
   ]
  },
  {
   "cell_type": "code",
   "execution_count": 74,
   "metadata": {},
   "outputs": [
    {
     "name": "stdout",
     "output_type": "stream",
     "text": [
      "Overwriting programs/08-Milestone-Project-2/test_Deck_class.py\n"
     ]
    }
   ],
   "source": [
    "%%writefile \"programs/08-Milestone-Project-2/test_Deck_class.py\"\n",
    "# imports\n",
    "import unittest\n",
    "from Deck_class import *\n",
    "\n",
    "class TestDeckAndCard(unittest.TestCase):\n",
    "    def setUp(self):\n",
    "        # Crie uma instância de Deck para usar nos testes\n",
    "        self.deck = Deck()\n",
    "\n",
    "    def test_deck_initialization(self):\n",
    "        # Verifique se o deck foi inicializado corretamente\n",
    "        self.assertEqual(len(self.deck.all_cards), 52)\n",
    "\n",
    "    def test_deck_shuffle(self):\n",
    "        # Verifique se o embaralhamento altera a ordem das cartas\n",
    "        original_order = self.deck.all_cards[:]\n",
    "        self.deck.shuffle()\n",
    "        self.assertNotEqual(self.deck.all_cards, original_order)\n",
    "\n",
    "    def test_deck_deal(self):\n",
    "        # Verifique se a função deal remove uma carta do deck\n",
    "        initial_length = len(self.deck.all_cards)\n",
    "        self.deck.deal()\n",
    "        self.assertEqual(len(self.deck.all_cards), initial_length - 1)\n",
    "\n",
    "    def test_card_creation(self):\n",
    "        # Verifique se a criação de uma carta funciona corretamente\n",
    "        card = Card(\"Hearts\", \"A\")\n",
    "        self.assertEqual(card.suit, \"Hearts\")\n",
    "        self.assertEqual(card.rank, \"A\")\n",
    "\n",
    "if __name__ == \"__main__\":\n",
    "    unittest.main()"
   ]
  },
  {
   "cell_type": "code",
   "execution_count": 75,
   "metadata": {},
   "outputs": [
    {
     "name": "stderr",
     "output_type": "stream",
     "text": [
      "....\n",
      "----------------------------------------------------------------------\n",
      "Ran 4 tests in 0.000s\n",
      "\n",
      "OK\n"
     ]
    }
   ],
   "source": [
    "! python3 \"programs/08-Milestone-Project-2/test_Deck_class.py\""
   ]
  },
  {
   "cell_type": "markdown",
   "metadata": {},
   "source": [
    "## Player/Dealer class"
   ]
  },
  {
   "cell_type": "code",
   "execution_count": 22,
   "metadata": {},
   "outputs": [
    {
     "name": "stdout",
     "output_type": "stream",
     "text": [
      "Overwriting programs/08-Milestone-Project-2/Player_Dealer_class.py\n"
     ]
    }
   ],
   "source": [
    "%%writefile \"programs/08-Milestone-Project-2/Player_Dealer_class.py\"\n",
    "# imports\n",
    "from Deck_class import *\n",
    "\n",
    "class Hand:\n",
    "    def __init__(self):\n",
    "        self.cards = [] \n",
    "        self.value = 0 \n",
    "        # attribute to keep track of number of aces\n",
    "        self.aces = 0 \n",
    "\n",
    "    def add_cards(self, card):\n",
    "        self.value += values[card.rank]\n",
    "        self.cards.append(card)\n",
    "        if card.rank == \"Ace\":\n",
    "            self.aces += 1\n",
    "\n",
    "    def adjust_for_ace(self):\n",
    "        while self.value > 21 and self.aces > 0:\n",
    "            self.value -= 10\n",
    "            self.aces -= 1\n",
    "\n",
    "    def show_hand(self, all_cards = True):\n",
    "        if all_cards:\n",
    "            card_list = [str(card) for card in self.cards]\n",
    "            return f\"The Player has in the hand {', '.join(card_list)} with a total value of {self.value}.\"\n",
    "        else:\n",
    "            card_list = [str(card) for card in self.cards][1:]\n",
    "            card_value = sum([values[card.rank] for card in self.cards][1:])\n",
    "            return f\"The Dealer has the faceup cards {', '.join(card_list)} (value {card_value}) and a hidden card.\"\n",
    "\n",
    "    def clear_hand(self):\n",
    "        self.cards = []\n",
    "        self.value = 0\n",
    "        self.aces = 0\n",
    "\n",
    "class Player(Hand):\n",
    "    def __init__(self, total_chips=100):\n",
    "        super().__init__()\n",
    "        self.total_chips = total_chips\n",
    "        self.current_bet = 0\n",
    "\n",
    "    def bet(self, value_of_bet):\n",
    "        self.current_bet = value_of_bet\n",
    "\n",
    "    def win_bet(self):\n",
    "        self.total_chips += 2  *self.current_bet\n",
    "        self.current_bet = 0\n",
    "\n",
    "    def lose_bet(self):\n",
    "        self.total_chips -= self.current_bet\n",
    "        self.current_bet = 0\n",
    "\n",
    "    def show_chips(self):\n",
    "        return f\"The Player has {self.total_chips} chips\"\n",
    "\n",
    "class Dealer(Hand):\n",
    "    def __init__(self):\n",
    "        super().__init__()\n",
    "\n",
    "    def __str__(self):\n",
    "        card_list = [str(card) for card in self.cards]\n",
    "        return f\"The Dealer has in the hand {card_list} with sums {self.value}\"\n"
   ]
  },
  {
   "cell_type": "markdown",
   "metadata": {},
   "source": [
    "### Test Player Dealer class"
   ]
  },
  {
   "cell_type": "code",
   "execution_count": 34,
   "metadata": {},
   "outputs": [
    {
     "name": "stdout",
     "output_type": "stream",
     "text": [
      "Overwriting programs/08-Milestone-Project-2/test_Player_Dealer_class.py\n"
     ]
    }
   ],
   "source": [
    "%%writefile \"programs/08-Milestone-Project-2/test_Player_Dealer_class.py\"\n",
    "# imports\n",
    "import unittest\n",
    "from Player_Dealer_class import *\n",
    "from Deck_class import *\n",
    "\n",
    "\n",
    "class TestPlayer(unittest.TestCase):\n",
    "    def setUp(self):\n",
    "        self.player = Player(total_chips=100)\n",
    "\n",
    "    def test_win_bet(self):\n",
    "        self.player.bet(20)\n",
    "        self.player.win_bet()\n",
    "        self.assertEqual(self.player.total_chips, 140)  # 100 + 2 * 20\n",
    "\n",
    "    def test_lose_bet(self):\n",
    "        self.player.bet(30)\n",
    "        self.player.lose_bet()\n",
    "        self.assertEqual(self.player.total_chips, 70)  # 100 - 30\n",
    "\n",
    "    def test_str(self):\n",
    "        self.assertEqual(str(self.player), \"The Player has 100 chips\")\n",
    "        self.player.add_cards(Card(\"Hearts\", \"Ace\"))\n",
    "        self.assertEqual(str(self.player.show_hand()), \"The Player has in the hand Ace of Hearts with a total value of 11.\")\n",
    "        \n",
    "    \n",
    "\n",
    "class TestHandOfPlayer(unittest.TestCase):\n",
    "    def setUp(self):\n",
    "        self.player = Player(total_chips=100)\n",
    "\n",
    "    def test_add_cards(self):\n",
    "        self.player.add_cards(Card(\"Hearts\", \"Ace\"))\n",
    "        self.assertEqual(self.player.value, 11)\n",
    "        self.assertEqual(len(self.player.cards), 1)\n",
    "\n",
    "    def test_adjust_for_ace(self):\n",
    "        self.player.add_cards(Card(\"Hearts\", \"Ace\"))\n",
    "        self.player.add_cards(Card(\"Diamonds\", \"Ten\"))\n",
    "        self.player.adjust_for_ace()\n",
    "        self.assertEqual(self.player.value, 21)\n",
    "        self.assertEqual(len(self.player.cards), 2)\n",
    "\n",
    "    def test_clear_hand(self):\n",
    "        self.player.add_cards(Card(\"Spades\", \"King\"))\n",
    "        self.player.clear_hand()\n",
    "        self.assertEqual(len(self.player.cards), 0)\n",
    "        self.assertEqual(self.player.value, 0)\n",
    "\n",
    "class TestDealer(unittest.TestCase):\n",
    "    def setUp(self):\n",
    "        self.dealer = Dealer()\n",
    "\n",
    "    def test_str(self):\n",
    "        self.dealer.add_cards(Card(\"Hearts\", \"Ace\"))\n",
    "        self.assertEqual(str(self.dealer), \"The Dealer has in the hand ['Ace of Hearts'] with sums 11\")\n",
    "        self.dealer.add_cards(Card(\"Diamonds\", \"Ten\"))\n",
    "        self.assertEqual(len(self.dealer.cards), 2)\n",
    "        self.assertEqual(str(self.dealer.show_hand(False)), \"The Dealer has the faceup cards Ten of Diamonds.\")\n",
    "\n",
    "class TestHandOfDealer(unittest.TestCase):\n",
    "    def setUp(self):\n",
    "        self.dealer = Dealer()\n",
    "\n",
    "    def test_add_cards(self):\n",
    "        self.dealer.add_cards(Card(\"Hearts\", \"Ace\"))\n",
    "        self.assertEqual(self.dealer.value, 11)\n",
    "        self.assertEqual(len(self.dealer.cards), 1)\n",
    "\n",
    "    def test_adjust_for_ace(self):\n",
    "        self.dealer.add_cards(Card(\"Hearts\", \"Ace\"))\n",
    "        self.dealer.add_cards(Card(\"Diamonds\", \"Ten\"))\n",
    "        self.dealer.adjust_for_ace()\n",
    "        self.assertEqual(self.dealer.value, 21)\n",
    "        self.assertEqual(len(self.dealer.cards), 2)\n",
    "\n",
    "    def test_clear_hand(self):\n",
    "        self.dealer.add_cards(Card(\"Spades\", \"King\"))\n",
    "        self.dealer.clear_hand()\n",
    "        self.assertEqual(len(self.dealer.cards), 0)\n",
    "        self.assertEqual(self.dealer.value, 0)\n",
    "\n",
    "if __name__ == \"__main__\":\n",
    "    unittest.main()\n"
   ]
  },
  {
   "cell_type": "code",
   "execution_count": 179,
   "metadata": {},
   "outputs": [
    {
     "name": "stderr",
     "output_type": "stream",
     "text": [
      "..........\n",
      "----------------------------------------------------------------------\n",
      "Ran 10 tests in 0.000s\n",
      "\n",
      "OK\n"
     ]
    }
   ],
   "source": [
    "! python3 \"programs/08-Milestone-Project-2/test_Player_Dealer_class.py\""
   ]
  },
  {
   "cell_type": "markdown",
   "metadata": {},
   "source": [
    "## Table class"
   ]
  },
  {
   "cell_type": "code",
   "execution_count": 25,
   "metadata": {},
   "outputs": [
    {
     "name": "stdout",
     "output_type": "stream",
     "text": [
      "Overwriting programs/08-Milestone-Project-2/Table_class.py\n"
     ]
    }
   ],
   "source": [
    "%%writefile \"programs/08-Milestone-Project-2/Table_class.py\"\n",
    "# imports\n",
    "from Player_Dealer_class import *\n",
    "\n",
    "class Table():\n",
    "    def __init__(self):\n",
    "        self.player = Player()\n",
    "        self.dealer = Dealer()\n",
    "        self.deck = Deck()\n",
    "\n",
    "    \n",
    "    def take_bet(self):\n",
    "        taking_bet = True\n",
    "        while taking_bet:\n",
    "            try:\n",
    "                user_input = int(input(\"Please enter your bet: \"))\n",
    "                if user_input > self.player.total_chips:\n",
    "                    print(\"You do not have enough chips!\")\n",
    "                elif user_input <= self.player.total_chips:\n",
    "                    self.player.bet(user_input)\n",
    "                    taking_bet = False\n",
    "            except ValueError:\n",
    "                print(\"Looks like you did not enter an integer!\")\n",
    "        print(f\"Ok, your bet is {self.player.current_bet}\")\n",
    "\n",
    "    def ask_to_play(self):        \n",
    "        play_game = input('Are you ready to play? Enter Yes or No.')\n",
    "        return play_game.lower()[0] == 'y'\n",
    "\n",
    "    def shuffle_deck(self):\n",
    "        self.deck.shuffle()\n",
    "\n",
    "    def deal_to_player(self):\n",
    "        self.player.add_cards(self.deck.deal())\n",
    "        \n",
    "        self.player.adjust_for_ace()\n",
    "    \n",
    "    def deal_to_dealer(self):\n",
    "        self.dealer.add_cards(self.deck.deal())\n",
    "        self.dealer.adjust_for_ace()\n",
    "\n",
    "    # def show_table(self, all_cards = True):\n",
    "    #     player.show_hand(all_cards)\n",
    "    #     dealer.show_hand(all_cards)\n",
    "    \n",
    "    def player_wins(self):\n",
    "        self.player.win_bet()\n",
    "    \n",
    "    def player_loses(self):\n",
    "        self.player.lose_bet()"
   ]
  },
  {
   "cell_type": "markdown",
   "metadata": {},
   "source": [
    "### Test Table class"
   ]
  },
  {
   "cell_type": "code",
   "execution_count": 72,
   "metadata": {},
   "outputs": [
    {
     "name": "stdout",
     "output_type": "stream",
     "text": [
      "Overwriting programs/08-Milestone-Project-2/test_Table_class.py\n"
     ]
    }
   ],
   "source": [
    "%%writefile \"programs/08-Milestone-Project-2/test_Table_class.py\"\n",
    "# imports\n",
    "import unittest\n",
    "from unittest.mock import patch\n",
    "from Table_class import *\n",
    "\n",
    "class TestTable(unittest.TestCase):\n",
    "    def setUp(self):\n",
    "        self.table = Table()\n",
    "\n",
    "    def test_take_bet(self):\n",
    "        with patch('builtins.input', return_value='50'):    \n",
    "            # Test if the player's bet is correctly set\n",
    "            self.table.player.total_chips = 100\n",
    "            self.table.take_bet()\n",
    "            self.assertEqual(self.table.player.current_bet, 50)  # User input is 50\n",
    "\n",
    "    def test_ask_to_play(self):\n",
    "        with patch('builtins.input', return_value='yes'):   \n",
    "            # Test if the user input for playing is correctly processed\n",
    "            self.assertTrue(self.table.ask_to_play())  # User input is 'Yes'\n",
    "\n",
    "    def test_shuffle_deck(self):\n",
    "        # Test if the deck is shuffled\n",
    "        original_order = self.table.deck.all_cards[:]\n",
    "        self.table.shuffle_deck()\n",
    "        self.assertNotEqual(self.table.deck.all_cards, original_order)\n",
    "\n",
    "    def test_deal_to_player(self):\n",
    "        # Test if card are dealt to the player\n",
    "        self.table.deal_to_player()\n",
    "        self.assertEqual(len(self.table.player.cards), 1)\n",
    "\n",
    "    def test_deal_to_dealer(self):\n",
    "        # Test if card are dealt to the dealer\n",
    "        self.table.deal_to_dealer()\n",
    "        self.assertEqual(len(self.table.dealer.cards), 1)\n",
    "\n",
    "    def test_player_wins(self):\n",
    "        # Test if player wins are correctly processed\n",
    "        bet = 30\n",
    "        initial_chips = self.table.player.total_chips\n",
    "        self.table.player.current_bet = bet\n",
    "        self.table.player_wins()\n",
    "        self.assertEqual(self.table.player.current_bet, 0)\n",
    "        self.assertEqual(self.table.player.total_chips, initial_chips + 2 * bet)\n",
    "\n",
    "    def test_player_loses(self):\n",
    "        # Test if player losses are correctly processed\n",
    "        bet = 30\n",
    "        initial_chips = self.table.player.total_chips\n",
    "        self.table.player.current_bet = bet\n",
    "        self.table.player_loses()\n",
    "        self.assertEqual(self.table.player.current_bet, 0)\n",
    "        self.assertEqual(self.table.player.total_chips, initial_chips - bet)\n",
    "\n",
    "if __name__ == '__main__':\n",
    "    unittest.main()\n"
   ]
  },
  {
   "cell_type": "code",
   "execution_count": 73,
   "metadata": {},
   "outputs": [
    {
     "name": "stdout",
     "output_type": "stream",
     "text": [
      "Ok, your bet is 50\n"
     ]
    },
    {
     "name": "stderr",
     "output_type": "stream",
     "text": [
      ".......\n",
      "----------------------------------------------------------------------\n",
      "Ran 7 tests in 0.001s\n",
      "\n",
      "OK\n"
     ]
    }
   ],
   "source": [
    "! python \"programs/08-Milestone-Project-2/test_Table_class.py\""
   ]
  },
  {
   "cell_type": "markdown",
   "metadata": {},
   "source": [
    "## Game logic"
   ]
  },
  {
   "cell_type": "code",
   "execution_count": 16,
   "metadata": {},
   "outputs": [
    {
     "name": "stdout",
     "output_type": "stream",
     "text": [
      "Overwriting programs/08-Milestone-Project-2/play_blackjack.py\n"
     ]
    }
   ],
   "source": [
    "%%writefile \"programs/08-Milestone-Project-2/play_blackjack.py\"\n",
    "# imports\n",
    "import os\n",
    "from IPython.display import clear_output\n",
    "from Player_Dealer_class import *\n",
    "from Deck_class import *\n",
    "from Table_class import *\n",
    "\n",
    "def clear_screen():\n",
    "    '''\n",
    "    Function that clears the output, uses different function depending on the environment\n",
    "    '''\n",
    "    try:\n",
    "        # Check if running in IPython environment\n",
    "        ipython = get_ipython()\n",
    "        if ipython is not None:\n",
    "            # Execute in IPython environment\n",
    "            clear_output(wait=True)\n",
    "    except NameError:\n",
    "        # Execute in Python terminal\n",
    "        os.system('cls' if os.name == 'nt' else 'clear')\n",
    "\n",
    "if __name__ == '__main__':\n",
    "\n",
    "    clear_screen()\n",
    "    \n",
    "    # Game \n",
    "    \n",
    "    # global variable\n",
    "    playing = True\n",
    "\n",
    "    # Intro message\n",
    "    print(\"This is a game of Blackjack.\")\n",
    "    # Create table object\n",
    "    table = Table()\n",
    "    # Shuffle deck\n",
    "    table.shuffle_deck()\n",
    "    while playing:\n",
    "        while True:\n",
    "            # Ask the player if he is going to play\n",
    "            if not table.ask_to_play():\n",
    "                print(\"Bye bye! Thank you for playing!\")\n",
    "                playing = False\n",
    "                break\n",
    "            \n",
    "            # Clear player and dealer hands\n",
    "            table.player.clear_hand()\n",
    "            table.dealer.clear_hand()\n",
    "\n",
    "            # Clear terminal\n",
    "            clear_screen()\n",
    "\n",
    "            # Print player number of chips\n",
    "            print(table.player.show_chips())\n",
    "\n",
    "            table.take_bet()\n",
    "\n",
    "            # Deal two cards to player\n",
    "            table.deal_to_player()\n",
    "            table.deal_to_player()\n",
    "\n",
    "            # Deal two cards to dealer\n",
    "            table.deal_to_dealer()\n",
    "            table.deal_to_dealer()\n",
    "\n",
    "            # Show all cards of player\n",
    "            print(table.player.show_hand(all_cards = True))\n",
    "\n",
    "            # Show cards of dealer (one is hidden)\n",
    "            print(table.dealer.show_hand(all_cards = False))\n",
    "\n",
    "            # Prompt for Player to Hit or Stand\n",
    "            while True:\n",
    "                player_input = input(\"Would you like to Hit or Stand? Enter 'h' or 's' \")\n",
    "                if player_input[0].lower() == 'h':\n",
    "                    table.deal_to_player()\n",
    "                    print(\"New hand of player:\")\n",
    "                    print(table.player.show_hand(all_cards = True))\n",
    "                    if table.player.value > 21:\n",
    "                        break\n",
    "\n",
    "                elif player_input[0].lower() == 's':\n",
    "                    print(\"Player stands. Dealer is playing.\")\n",
    "                    break\n",
    "\n",
    "                else:\n",
    "                    print(\"Sorry, please try again.\")\n",
    "                    continue\n",
    "            \n",
    "\n",
    "            # If player's hand exceeds 21, run player_busts() and break out of loop\n",
    "            if table.player.value > 21:\n",
    "                print(f\"Sorry! Player busted with {table.player.value}\")\n",
    "                table.player_loses()\n",
    "            # If Player hasn't busted, play Dealer's hand until Dealer reaches 17\n",
    "        \n",
    "            while table.dealer.value < 17:\n",
    "                table.deal_to_dealer()\n",
    "\n",
    "            # Show cards of dealer (one is hidden)\n",
    "            print(table.dealer)\n",
    "\n",
    "            # Run different winning scenarios\n",
    "\n",
    "            if table.dealer.value > 21:\n",
    "                print(f\"Dealer busted! Player wins!\")\n",
    "                table.player_wins()\n",
    "\n",
    "            elif table.dealer.value > table.player.value:\n",
    "                print(f\"Sorry! Dealer wins with {table.dealer.value}\")\n",
    "                table.player_loses()\n",
    "\n",
    "            elif table.dealer.value < table.player.value:\n",
    "                print(f\"Player wins with {table.player.value}\")\n",
    "                table.player_wins()\n",
    "\n",
    "            else:\n",
    "                print(f\"Dealer and player tie with {table.dealer.value}! PUSH!!\")\n",
    "\n",
    "            # Print player number of chips\n",
    "            if table.player.total_chips == 0:\n",
    "                print(\"Sorry! You lost all your chips. You can't play without chips.\")\n",
    "                playing = False\n",
    "                break\n",
    "            else:\n",
    "                print(table.player.show_chips())"
   ]
  },
  {
   "cell_type": "code",
   "execution_count": 23,
   "metadata": {},
   "outputs": [
    {
     "name": "stdout",
     "output_type": "stream",
     "text": [
      "The Player has 100 chips\n",
      "Ok, your bet is 100\n",
      "The Player has in the hand Ace of Hearts, Nine of Clubs with a total value of 20.\n",
      "The Dealer has the faceup cards Ace of Diamonds (value 11) and a hidden card.\n",
      "Player stands. Dealer is playing.\n",
      "The Dealer has in the hand ['Eight of Clubs', 'Ace of Diamonds'] with sums 19\n",
      "Player wins with 20\n",
      "The Player has 300 chips\n",
      "Bye bye! Thank you for playing!\n"
     ]
    }
   ],
   "source": [
    "# Play the game\n",
    "%run \"programs/08-Milestone-Project-2/play_blackjack.py\""
   ]
  }
 ],
 "metadata": {
  "kernelspec": {
   "display_name": "tf_gpu",
   "language": "python",
   "name": "python3"
  },
  "language_info": {
   "codemirror_mode": {
    "name": "ipython",
    "version": 3
   },
   "file_extension": ".py",
   "mimetype": "text/x-python",
   "name": "python",
   "nbconvert_exporter": "python",
   "pygments_lexer": "ipython3",
   "version": "3.8.0"
  }
 },
 "nbformat": 4,
 "nbformat_minor": 1
}
