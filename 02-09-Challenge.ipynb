{
 "cells": [
  {
   "cell_type": "markdown",
   "metadata": {},
   "source": [
    "# Guessing Game Challenge\n",
    "\n",
    "Write a program that picks a random integer from 1 to 100, and has players guess the number. The rules are:\n",
    "\n",
    "1. If a player's guess is less than 1 or greater than 100, say \"OUT OF BOUNDS\"\n",
    "2. On a player's first turn, if their guess is\n",
    " * within 10 of the number, return \"WARM!\"\n",
    " * further than 10 away from the number, return \"COLD!\"\n",
    "3. On all subsequent turns, if a guess is \n",
    " * closer to the number than the previous guess return \"WARMER!\"\n",
    " * farther from the number than the previous guess, return \"COLDER!\"\n",
    "4. When the player's guess equals the number, tell them they've guessed correctly *and* how many guesses it took!\n",
    "\n",
    "Use `while` loops to create a guessing game."
   ]
  },
  {
   "cell_type": "markdown",
   "metadata": {},
   "source": [
    "# Solution"
   ]
  },
  {
   "cell_type": "code",
   "execution_count": 1,
   "metadata": {
    "collapsed": true
   },
   "outputs": [
    {
     "name": "stdout",
     "output_type": "stream",
     "text": [
      "Writing programs/02-09-Challenge/guess_number.py\n"
     ]
    }
   ],
   "source": [
    "%%writefile \"programs/02-09-Challenge/guess_number.py\"\n",
    "\n",
    "# Imports\n",
    "from random import randint, seed\n",
    "\n",
    "# Fix seed\n",
    "seed(42) # Correct number is 82\n",
    "\n",
    "# Welcoming message to player\n",
    "welcome_msg = '''Welcome to the guessing game! The rules are\n",
    "    1. Guess a number between 1 and 100;\n",
    "    2. On your first guess, if your guess is\n",
    "        * within 10 of the number, I will print \"WARM!\"\n",
    "        * further than 10 away from the number, I will print \"COLD!\"\n",
    "    3. On all subsequent turns, if a guess is \n",
    "        * closer to the number than the previous guess return \"WARMER!\"\n",
    "        * farther from the number than the previous guess, return \"COLDER!\"\n",
    "    4. When your guess equals the number, I will print that you have guessed correctly *and* how many guesses it took!\n",
    "'''\n",
    "\n",
    "# Ask for player to input number\n",
    "ask_for_guess_msg = \"What is your guess?\"\n",
    "\n",
    "# Error message invalid input\n",
    "error_msg = \"Invalid input. Please enter an integer between 1 and 100\"\n",
    "\n",
    "# Pick a random integer from 1 to 100 (inclusive)\n",
    "number_to_guess = randint(1, 100)  # inclusive on both end points\n",
    "\n",
    "# Create a list to store past guesses\n",
    "guesses = [0]\n",
    "\n",
    "if __name__ == '__main__':\n",
    "    # Game logic\n",
    "    while True:\n",
    "\n",
    "        try:\n",
    "            user_input = int(input(ask_for_guess_msg))\n",
    "\n",
    "            if user_input < 1 or user_input > 100:\n",
    "                print(error_msg)\n",
    "                continue\n",
    "\n",
    "            if number_to_guess == user_input:\n",
    "                print(\n",
    "                    f\"The number {number_to_guess} is correct! You took {len(guesses)} guesses.\")\n",
    "                break\n",
    "\n",
    "            guesses.append(user_input)\n",
    "\n",
    "            if guesses[-2]:\n",
    "                if abs(number_to_guess - user_input) < abs(number_to_guess - guesses[-2]):\n",
    "                    print('WARMER!')\n",
    "                else:\n",
    "                    print('COLDER!')\n",
    "            else:\n",
    "                if abs(number_to_guess - user_input) <= 10:\n",
    "                    print('WARM!')\n",
    "                else:\n",
    "                    print('COLD!')\n",
    "\n",
    "        except ValueError:\n",
    "            print(error_msg)"
   ]
  },
  {
   "cell_type": "code",
   "execution_count": 2,
   "metadata": {},
   "outputs": [
    {
     "name": "stdout",
     "output_type": "stream",
     "text": [
      "COLD!\n",
      "WARMER!\n",
      "The number 82 is correct! You took 3 guesses.\n"
     ]
    }
   ],
   "source": [
    "%run \"programs/02-09-Challenge/guess_number.py\""
   ]
  }
 ],
 "metadata": {
  "kernelspec": {
   "display_name": "TensorFlowGPU",
   "language": "python",
   "name": "tf_gpu"
  },
  "language_info": {
   "codemirror_mode": {
    "name": "ipython",
    "version": 3
   },
   "file_extension": ".py",
   "mimetype": "text/x-python",
   "name": "python",
   "nbconvert_exporter": "python",
   "pygments_lexer": "ipython3",
   "version": "3.8.0"
  }
 },
 "nbformat": 4,
 "nbformat_minor": 2
}
