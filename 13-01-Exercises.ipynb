{
 "cells": [
  {
   "cell_type": "markdown",
   "metadata": {},
   "source": [
    "# 13-01-Exercises"
   ]
  },
  {
   "cell_type": "markdown",
   "metadata": {},
   "source": [
    "___\n",
    "## Problem 1\n",
    "### (a)\n",
    "Use any library and BeautifulSoup to connect to <code>http://quotes.toscrape.com/</code> and get the full HTML text from the homepage"
   ]
  },
  {
   "cell_type": "code",
   "execution_count": 1,
   "metadata": {},
   "outputs": [],
   "source": [
    "import requests\n",
    "import bs4"
   ]
  },
  {
   "cell_type": "code",
   "execution_count": 2,
   "metadata": {},
   "outputs": [],
   "source": [
    "res = requests.get(\"http://quotes.toscrape.com/\")\n",
    "soup = bs4.BeautifulSoup(res.text,\"lxml\")"
   ]
  },
  {
   "cell_type": "markdown",
   "metadata": {},
   "source": [
    "### (b)\n",
    "Get the names of all the authors on the first page"
   ]
  },
  {
   "cell_type": "code",
   "execution_count": 13,
   "metadata": {},
   "outputs": [
    {
     "name": "stdout",
     "output_type": "stream",
     "text": [
      "{'Steve Martin', 'Albert Einstein', 'Marilyn Monroe', 'Eleanor Roosevelt', 'Thomas A. Edison', 'J.K. Rowling', 'Jane Austen', 'André Gide'}\n"
     ]
    }
   ],
   "source": [
    "elements_with_tag_author = soup.select(\".quote .author\")\n",
    "author_set = set()\n",
    "\n",
    "for item in elements_with_tag_author:\n",
    "    author_set.add(item.text)\n",
    "\n",
    "print(author_set)"
   ]
  },
  {
   "cell_type": "markdown",
   "metadata": {},
   "source": [
    "### (c)\n",
    "Create a list of all the quotes on the first page"
   ]
  },
  {
   "cell_type": "code",
   "execution_count": 15,
   "metadata": {},
   "outputs": [
    {
     "name": "stdout",
     "output_type": "stream",
     "text": [
      "['“The world as we have created it is a process of our thinking. It cannot be changed without changing our thinking.”', '“It is our choices, Harry, that show what we truly are, far more than our abilities.”', '“There are only two ways to live your life. One is as though nothing is a miracle. The other is as though everything is a miracle.”', '“The person, be it gentleman or lady, who has not pleasure in a good novel, must be intolerably stupid.”', \"“Imperfection is beauty, madness is genius and it's better to be absolutely ridiculous than absolutely boring.”\", '“Try not to become a man of success. Rather become a man of value.”', '“It is better to be hated for what you are than to be loved for what you are not.”', \"“I have not failed. I've just found 10,000 ways that won't work.”\", \"“A woman is like a tea bag; you never know how strong it is until it's in hot water.”\", '“A day without sunshine is like, you know, night.”']\n"
     ]
    }
   ],
   "source": [
    "elements_with_tag_text = soup.select(\".quote .text\")\n",
    "quote_list = []\n",
    "\n",
    "for item in elements_with_tag_text:\n",
    "    quote_list.append(item.text)\n",
    "\n",
    "print(quote_list)"
   ]
  },
  {
   "cell_type": "markdown",
   "metadata": {},
   "source": [
    "### (d)\n",
    "Inspect the site and use Beautiful Soup to extract the top ten tags from the requests text shown on the top right from the home page (e.g Love,Inspirational,Life, etc...). HINT: Keep in mind there are also tags underneath each quote, try to find a class only present in the top right tags, perhaps check the span."
   ]
  },
  {
   "cell_type": "code",
   "execution_count": 12,
   "metadata": {},
   "outputs": [
    {
     "name": "stdout",
     "output_type": "stream",
     "text": [
      "['love', 'inspirational', 'life', 'humor', 'books', 'reading', 'friendship', 'friends', 'truth', 'simile']\n"
     ]
    }
   ],
   "source": [
    "elements_with_tag_item = soup.select(\".tag-item .tag\")\n",
    "tag_list =[]\n",
    "\n",
    "for item in elements_with_tag_item:\n",
    "    tag_list.append(item.text)\n",
    "\n",
    "print(tag_list)"
   ]
  },
  {
   "cell_type": "markdown",
   "metadata": {},
   "source": [
    "___\n",
    "## Problem 2\n",
    "Use the information that subsequent pages look like this <code>http://quotes.toscrape.com/page/2/</code> to write a program that extract the full list of unique authors in the website. Also, check if your ends on the last page with quotes (page 10)."
   ]
  },
  {
   "cell_type": "code",
   "execution_count": 81,
   "metadata": {},
   "outputs": [
    {
     "name": "stdout",
     "output_type": "stream",
     "text": [
      "A lista de autores é\n",
      "{'Ralph Waldo Emerson', 'Albert Einstein', 'Elie Wiesel', 'George Eliot', 'Pablo Neruda', 'Bob Marley', 'Garrison Keillor', 'Douglas Adams', 'Mark Twain', 'J.K. Rowling', 'C.S. Lewis', 'Helen Keller', 'Charles Bukowski', \"Madeleine L'Engle\", 'Suzanne Collins', 'Martin Luther King Jr.', 'Mother Teresa', 'Steve Martin', 'J.R.R. Tolkien', 'E.E. Cummings', 'Jimi Hendrix', 'Ernest Hemingway', 'William Nicholson', 'Charles M. Schulz', 'George Carlin', 'George R.R. Martin', 'Terry Pratchett', 'John Lennon', 'Khaled Hosseini', 'J.M. Barrie', 'Alfred Tennyson', 'Eleanor Roosevelt', 'George Bernard Shaw', 'Thomas A. Edison', 'James Baldwin', 'Alexandre Dumas fils', 'Friedrich Nietzsche', 'J.D. Salinger', 'André Gide', 'Stephenie Meyer', 'Jorge Luis Borges', 'Allen Saunders', 'Ayn Rand', 'Harper Lee', 'Marilyn Monroe', 'Haruki Murakami', 'Jane Austen', 'Jim Henson', 'Dr. Seuss', 'W.C. Fields'}\n",
      "O número de páginas com autores é 10\n"
     ]
    }
   ],
   "source": [
    "author_set = set()\n",
    "page_num = 0\n",
    "base_url = \"http://quotes.toscrape.com/\"\n",
    "page_url = 'page/{}/'\n",
    "scrape_url = base_url\n",
    "\n",
    "while True:\n",
    "    if page_num == 0:\n",
    "        page_num += 1\n",
    "    else:\n",
    "        page_num += 1\n",
    "        scrape_url = base_url + page_url\n",
    "        scrape_url = scrape_url.format(page_num)\n",
    "    \n",
    "    res = requests.get(scrape_url)\n",
    "    soup = bs4.BeautifulSoup(res.text,\"lxml\")\n",
    "    authors = soup.select(\".quote .author\")\n",
    "\n",
    "    if len(authors) == 0:\n",
    "        break\n",
    "    else:\n",
    "        for author in authors:\n",
    "            author_set.add(author.text)\n",
    "                \n",
    "print(\"A lista de autores é\")\n",
    "print(author_set)\n",
    "print(f\"O número de páginas com autores é {page_num-1}\")"
   ]
  }
 ],
 "metadata": {
  "kernelspec": {
   "display_name": "Python 3 (ipykernel)",
   "language": "python",
   "name": "python3"
  },
  "language_info": {
   "codemirror_mode": {
    "name": "ipython",
    "version": 3
   },
   "file_extension": ".py",
   "mimetype": "text/x-python",
   "name": "python",
   "nbconvert_exporter": "python",
   "pygments_lexer": "ipython3",
   "version": "3.8.0"
  }
 },
 "nbformat": 4,
 "nbformat_minor": 2
}
