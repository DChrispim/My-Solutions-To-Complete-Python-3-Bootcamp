{
 "cells": [
  {
   "cell_type": "markdown",
   "metadata": {},
   "source": [
    "# 03-08-Homework"
   ]
  },
  {
   "cell_type": "markdown",
   "metadata": {},
   "source": [
    "___\n",
    "## Question 1\n",
    "Write a function called volume_of_sphere that computes the volume of a sphere given its radius. The volume of a sphere is given as $$\\frac{4}{3} πr^3$$"
   ]
  },
  {
   "cell_type": "code",
   "execution_count": 1,
   "metadata": {},
   "outputs": [
    {
     "name": "stdout",
     "output_type": "stream",
     "text": [
      "Writing programs/03-08-Homework/volume_of_sphere.py\n"
     ]
    }
   ],
   "source": [
    "%%writefile \"programs/03-08-Homework/volume_of_sphere.py\"\n",
    "import numpy as np\n",
    "def vol(rad):\n",
    "    return 4/3 * np.pi * rad**3"
   ]
  },
  {
   "cell_type": "code",
   "execution_count": 14,
   "metadata": {},
   "outputs": [
    {
     "name": "stdout",
     "output_type": "stream",
     "text": [
      "Overwriting programs/03-08-Homework/test_volume_of_sphere.py\n"
     ]
    }
   ],
   "source": [
    "%%writefile \"programs/03-08-Homework/test_volume_of_sphere.py\"\n",
    "import unittest\n",
    "from volume_of_sphere import *\n",
    "\n",
    "class TestVolumeOfSphere(unittest.TestCase):\n",
    "    def test_radius_1(self):\n",
    "        result = vol(1)\n",
    "        self.assertAlmostEqual(result, 4.18879, 4)\n",
    "    \n",
    "    def test_radius_2(self):\n",
    "        result = vol(2)\n",
    "        self.assertAlmostEqual(result, 33.5103, 4)    \n",
    "\n",
    "if __name__ == '__main__':\n",
    "    unittest.main()"
   ]
  },
  {
   "cell_type": "code",
   "execution_count": 15,
   "metadata": {},
   "outputs": [
    {
     "name": "stderr",
     "output_type": "stream",
     "text": [
      "..\n",
      "----------------------------------------------------------------------\n",
      "Ran 2 tests in 0.000s\n",
      "\n",
      "OK\n"
     ]
    }
   ],
   "source": [
    "! python3 \"programs/03-08-Homework/test_volume_of_sphere.py\""
   ]
  },
  {
   "cell_type": "markdown",
   "metadata": {},
   "source": [
    "___\n",
    "## Question 2\n",
    "Write a function that checks whether a number is in a given range (inclusive of high and low)"
   ]
  },
  {
   "cell_type": "code",
   "execution_count": 35,
   "metadata": {},
   "outputs": [
    {
     "name": "stdout",
     "output_type": "stream",
     "text": [
      "Overwriting programs/03-08-Homework/ran_check.py\n"
     ]
    }
   ],
   "source": [
    "%%writefile \"programs/03-08-Homework/ran_check.py\"\n",
    "\n",
    "def ran_check_verbose(num,low,high):\n",
    "    if num in range(low,high+1):\n",
    "        return \"{} is in the range between {} and {}\".format(num,low,high)\n",
    "    else:\n",
    "        return \"{} is not in the range between {} and {}\".format(num,low,high)\n",
    "\n",
    "def ran_check_boolean(num,low,high):\n",
    "    return num in range(low,high+1)"
   ]
  },
  {
   "cell_type": "code",
   "execution_count": 36,
   "metadata": {},
   "outputs": [
    {
     "name": "stdout",
     "output_type": "stream",
     "text": [
      "Overwriting programs/03-08-Homework/test_ran_check.py\n"
     ]
    }
   ],
   "source": [
    "%%writefile \"programs/03-08-Homework/test_ran_check.py\"\n",
    "import unittest\n",
    "from ran_check import *\n",
    "\n",
    "class TestRanCheckVerbose(unittest.TestCase):\n",
    "    def test_is_between(self):\n",
    "        result = ran_check_verbose(5,2,7)\n",
    "        self.assertTrue(result == '5 is in the range between 2 and 7')\n",
    "    \n",
    "    def test_is_not_between(self):\n",
    "        result = ran_check_verbose(5,6,7)\n",
    "        self.assertTrue(result == '5 is not in the range between 6 and 7')\n",
    "\n",
    "class TestRanCheckBoolean(unittest.TestCase):\n",
    "    def test_is_between(self):\n",
    "        self.assertTrue(ran_check_boolean(3,1,10))\n",
    "    \n",
    "    def test_is_not_between(self):\n",
    "        self.assertFalse(ran_check_boolean(3,4,10))\n",
    "\n",
    "if __name__ == '__main__':\n",
    "    unittest.main()"
   ]
  },
  {
   "cell_type": "code",
   "execution_count": 37,
   "metadata": {},
   "outputs": [
    {
     "name": "stderr",
     "output_type": "stream",
     "text": [
      "....\n",
      "----------------------------------------------------------------------\n",
      "Ran 4 tests in 0.000s\n",
      "\n",
      "OK\n"
     ]
    }
   ],
   "source": [
    "! python3 \"programs/03-08-Homework/test_ran_check.py\""
   ]
  },
  {
   "cell_type": "markdown",
   "metadata": {},
   "source": [
    "___\n",
    "## Question 3\n",
    "Write a Python function that accepts a string and calculates the number of upper case letters and lower case letters"
   ]
  },
  {
   "cell_type": "code",
   "execution_count": 28,
   "metadata": {},
   "outputs": [
    {
     "name": "stdout",
     "output_type": "stream",
     "text": [
      "Overwriting programs/03-08-Homework/up_low_letter_counter.py\n"
     ]
    }
   ],
   "source": [
    "%%writefile \"programs/03-08-Homework/up_low_letter_counter.py\"\n",
    "\n",
    "def up_low(s):\n",
    "    n_upper_letters = 0\n",
    "    n_lower_letters = 0\n",
    "    for letter in s:\n",
    "        if letter.isupper():\n",
    "            n_upper_letters += 1\n",
    "        elif letter.islower():\n",
    "            n_lower_letters += 1\n",
    "        else: #To take in account for punctuation\n",
    "            pass\n",
    "    return f'''\n",
    "            Original String: {s}\n",
    "            No. of Upper case characters: {n_upper_letters}\n",
    "            No. of Lower case Characters: {n_lower_letters}\n",
    "            '''"
   ]
  },
  {
   "cell_type": "code",
   "execution_count": 29,
   "metadata": {},
   "outputs": [
    {
     "name": "stdout",
     "output_type": "stream",
     "text": [
      "Overwriting programs/03-08-Homework/test_up_low_letter_counter.py\n"
     ]
    }
   ],
   "source": [
    "%%writefile \"programs/03-08-Homework/test_up_low_letter_counter.py\"\n",
    "import unittest\n",
    "from up_low_letter_counter import *\n",
    "\n",
    "class TestUpLow(unittest.TestCase):\n",
    "    def test_up_low_phrase(self):\n",
    "        phrase = 'Hello Mr. Rogers, how are you this fine Tuesday?'\n",
    "        result_phrase = up_low(phrase)\n",
    "        expected_phase = '\\n            Original String: Hello Mr. Rogers, how are you this fine Tuesday?\\n            No. of Upper case characters: 4\\n            No. of Lower case Characters: 33\\n            '\n",
    "        self.assertTrue(expected_phase in result_phrase)\n",
    "\n",
    "if __name__ == '__main__':\n",
    "    unittest.main()"
   ]
  },
  {
   "cell_type": "code",
   "execution_count": 30,
   "metadata": {},
   "outputs": [
    {
     "name": "stderr",
     "output_type": "stream",
     "text": [
      ".\n",
      "----------------------------------------------------------------------\n",
      "Ran 1 test in 0.000s\n",
      "\n",
      "OK\n"
     ]
    }
   ],
   "source": [
    "! python3 \"programs/03-08-Homework/test_up_low_letter_counter.py\""
   ]
  },
  {
   "cell_type": "markdown",
   "metadata": {},
   "source": [
    "___\n",
    "## Question 4\n",
    "Write a Python function that takes a list and returns a new list with unique elements of the first list"
   ]
  },
  {
   "cell_type": "code",
   "execution_count": 13,
   "metadata": {},
   "outputs": [
    {
     "name": "stdout",
     "output_type": "stream",
     "text": [
      "Overwriting programs/03-08-Homework/unique_elements.py\n"
     ]
    }
   ],
   "source": [
    "%%writefile \"programs/03-08-Homework/unique_elements.py\"\n",
    "def unique_elements(nums):\n",
    "    return list(set(nums))"
   ]
  },
  {
   "cell_type": "code",
   "execution_count": 20,
   "metadata": {},
   "outputs": [
    {
     "name": "stdout",
     "output_type": "stream",
     "text": [
      "Overwriting programs/03-08-Homework/test_unique_elements.py\n"
     ]
    }
   ],
   "source": [
    "%%writefile \"programs/03-08-Homework/test_unique_elements.py\"\n",
    "import unittest\n",
    "from unique_elements import *\n",
    "\n",
    "class TestUniqueElements(unittest.TestCase):\n",
    "    def test_unique_1(self):\n",
    "        result = unique_elements([1])\n",
    "        self.assertTrue(result == [1])\n",
    "\n",
    "    def test_unique_2(self):\n",
    "        result = unique_elements([1,1,1,1,3,4,6,8,1])\n",
    "        self.assertTrue(result == [1,3,4,6,8])\n",
    "\n",
    "if __name__ == '__main__':\n",
    "    unittest.main()"
   ]
  },
  {
   "cell_type": "code",
   "execution_count": 21,
   "metadata": {},
   "outputs": [
    {
     "name": "stderr",
     "output_type": "stream",
     "text": [
      "..\n",
      "----------------------------------------------------------------------\n",
      "Ran 2 tests in 0.000s\n",
      "\n",
      "OK\n"
     ]
    }
   ],
   "source": [
    "! python3 \"programs/03-08-Homework/test_unique_elements.py\""
   ]
  },
  {
   "cell_type": "markdown",
   "metadata": {},
   "source": [
    "___\n",
    "## Question 5\n",
    "Write a Python function to multiply all the numbers in a list"
   ]
  },
  {
   "cell_type": "code",
   "execution_count": 4,
   "metadata": {},
   "outputs": [
    {
     "name": "stdout",
     "output_type": "stream",
     "text": [
      "Overwriting programs/03-08-Homework/multiply.py\n"
     ]
    }
   ],
   "source": [
    "%%writefile \"programs/03-08-Homework/multiply.py\"\n",
    "def multiply(numbers):\n",
    "    result = 1\n",
    "    for num in numbers:\n",
    "        result = result*num\n",
    "    return result"
   ]
  },
  {
   "cell_type": "code",
   "execution_count": 5,
   "metadata": {},
   "outputs": [
    {
     "name": "stdout",
     "output_type": "stream",
     "text": [
      "Overwriting programs/03-08-Homework/test_volume_of_sphere.py\n"
     ]
    }
   ],
   "source": [
    "%%writefile \"programs/03-08-Homework/test_volume_of_sphere.py\"\n",
    "import unittest\n",
    "from multiply import *\n",
    "\n",
    "class TestMultiply(unittest.TestCase):\n",
    "    def test_radius_1(self):\n",
    "        result = multiply([1,2,3,-4])\n",
    "        self.assertEqual(result, -24)  \n",
    "\n",
    "if __name__ == '__main__':\n",
    "    unittest.main()"
   ]
  },
  {
   "cell_type": "code",
   "execution_count": 6,
   "metadata": {},
   "outputs": [
    {
     "name": "stderr",
     "output_type": "stream",
     "text": [
      ".\n",
      "----------------------------------------------------------------------\n",
      "Ran 1 test in 0.000s\n",
      "\n",
      "OK\n"
     ]
    }
   ],
   "source": [
    "! python3 \"programs/03-08-Homework/test_volume_of_sphere.py\""
   ]
  },
  {
   "cell_type": "markdown",
   "metadata": {},
   "source": [
    "___\n",
    "## Question 6\n",
    "Write a Python function that checks whether a word or phrase is palindrome or not. A palindrome is word, phrase, or sequence that reads the same backward as forward, e.g., madam,kayak,racecar, or a phrase \"nurses run\". Hint: You may want to check out the"
   ]
  },
  {
   "cell_type": "code",
   "execution_count": 22,
   "metadata": {},
   "outputs": [
    {
     "name": "stdout",
     "output_type": "stream",
     "text": [
      "Writing programs/03-08-Homework/palindrome.py\n"
     ]
    }
   ],
   "source": [
    "%%writefile \"programs/03-08-Homework/palindrome.py\"\n",
    "\n",
    "def palindrome(s):\n",
    "    # Remove the spaces from the string\n",
    "    word = s.replace(\" \", \"\")\n",
    "    return word == word[::-1]"
   ]
  },
  {
   "cell_type": "code",
   "execution_count": 23,
   "metadata": {},
   "outputs": [
    {
     "name": "stdout",
     "output_type": "stream",
     "text": [
      "Writing programs/03-08-Homework/test_palindrome.py\n"
     ]
    }
   ],
   "source": [
    "%%writefile \"programs/03-08-Homework/test_palindrome.py\"\n",
    "\n",
    "import unittest\n",
    "from palindrome import *\n",
    "\n",
    "class TestPalindrome(unittest.TestCase):\n",
    "    def test_phrase_1(self):\n",
    "        result = palindrome(\"nurses run\")\n",
    "        self.assertTrue(result)\n",
    "    \n",
    "    def test_phrase_2(self):\n",
    "        result = palindrome('helleh')\n",
    "        self.assertTrue(result)\n",
    "\n",
    "if __name__ == '__main__':\n",
    "    unittest.main()"
   ]
  },
  {
   "cell_type": "code",
   "execution_count": 24,
   "metadata": {},
   "outputs": [
    {
     "name": "stderr",
     "output_type": "stream",
     "text": [
      "..\n",
      "----------------------------------------------------------------------\n",
      "Ran 2 tests in 0.000s\n",
      "\n",
      "OK\n"
     ]
    }
   ],
   "source": [
    "! python3 \"programs/03-08-Homework/test_palindrome.py\""
   ]
  },
  {
   "cell_type": "markdown",
   "metadata": {},
   "source": [
    "___\n",
    "## Question 7\n",
    "\n",
    "Write a Python function to check whether a string is pangram or not. (Assume the string passed in does not have any punctuation)\n",
    "\n",
    "    Note : Pangrams are words or sentences containing every letter of the alphabet at least once.\n",
    "    For example : \"The quick brown fox jumps over the lazy dog\""
   ]
  },
  {
   "cell_type": "code",
   "execution_count": 25,
   "metadata": {},
   "outputs": [
    {
     "name": "stdout",
     "output_type": "stream",
     "text": [
      "Writing programs/03-08-Homework/ispangram.py\n"
     ]
    }
   ],
   "source": [
    "%%writefile \"programs/03-08-Homework/ispangram.py\"\n",
    "\n",
    "import string\n",
    "\n",
    "def ispangram(str1, alphabet=string.ascii_lowercase):\n",
    "    # Create a set of the alphabet\n",
    "    alphaset = set(alphabet)\n",
    "    # Remove all spaces from the input string\n",
    "    str1 = str1.replace(\" \", \"\")\n",
    "    # Convert in all lowercase\n",
    "    str1 = str1.lower()\n",
    "    # Grab all unique letters using set\n",
    "    str1 = set(str1)\n",
    "    #Check if both are equal\n",
    "    return str1 == alphaset"
   ]
  },
  {
   "cell_type": "code",
   "execution_count": 26,
   "metadata": {},
   "outputs": [
    {
     "name": "stdout",
     "output_type": "stream",
     "text": [
      "Writing programs/03-08-Homework/test_ispangram.py\n"
     ]
    }
   ],
   "source": [
    "%%writefile \"programs/03-08-Homework/test_ispangram.py\"\n",
    "\n",
    "import unittest\n",
    "from ispangram import *\n",
    "\n",
    "class TestIsPangram(unittest.TestCase):\n",
    "    def test_phrase_1(self):\n",
    "        result = ispangram(\"This is false\")\n",
    "        self.assertFalse(result)\n",
    "    \n",
    "    def test_phrase_2(self):\n",
    "        result = ispangram(\"The quick brown fox jumps over the lazy dog\")\n",
    "        self.assertTrue(result)\n",
    "\n",
    "if __name__ == '__main__':\n",
    "    unittest.main()"
   ]
  },
  {
   "cell_type": "code",
   "execution_count": 27,
   "metadata": {},
   "outputs": [
    {
     "name": "stderr",
     "output_type": "stream",
     "text": [
      "..\n",
      "----------------------------------------------------------------------\n",
      "Ran 2 tests in 0.000s\n",
      "\n",
      "OK\n"
     ]
    }
   ],
   "source": [
    "! python3 \"programs/03-08-Homework/test_ispangram.py\""
   ]
  }
 ],
 "metadata": {
  "kernelspec": {
   "display_name": "TensorFlowGPU",
   "language": "python",
   "name": "tf_gpu"
  },
  "language_info": {
   "codemirror_mode": {
    "name": "ipython",
    "version": 3
   },
   "file_extension": ".py",
   "mimetype": "text/x-python",
   "name": "python",
   "nbconvert_exporter": "python",
   "pygments_lexer": "ipython3",
   "version": "3.8.0"
  }
 },
 "nbformat": 4,
 "nbformat_minor": 1
}
