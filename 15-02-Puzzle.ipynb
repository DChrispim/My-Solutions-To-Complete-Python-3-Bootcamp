{
 "cells": [
  {
   "cell_type": "markdown",
   "metadata": {},
   "source": [
    "# 15-02-Puzzle"
   ]
  },
  {
   "cell_type": "markdown",
   "metadata": {},
   "source": [
    "## Problem 1\n",
    "Extract the Google Drive link from the <code>15/find_the_link.csv</code> file"
   ]
  },
  {
   "cell_type": "code",
   "execution_count": 6,
   "metadata": {},
   "outputs": [],
   "source": [
    "import csv"
   ]
  },
  {
   "cell_type": "code",
   "execution_count": 7,
   "metadata": {},
   "outputs": [
    {
     "data": {
      "text/plain": [
       "'https://drive.google.com/open?id=1G6SEgg018UB4_4xsAJJ5TdzrhmXipr4Q'"
      ]
     },
     "execution_count": 7,
     "metadata": {},
     "output_type": "execute_result"
    }
   ],
   "source": [
    "# File path\n",
    "data_path = 'data//15'\n",
    "file_path = f\"{data_path}//Exercise_Files//find_the_link.csv\"\n",
    "\n",
    "# os.listdir(file_path)\n",
    "data = open(file_path, encoding=\"utf-8\")\n",
    "\n",
    "csv_data = csv.reader(data)\n",
    "data_lines = list(csv_data)\n",
    "\n",
    "# The link is in the diagonal\n",
    "letter_list = []\n",
    "for line in range(len(data_lines)):\n",
    "    letter_list += data_lines[line][line]\n",
    "\n",
    "link_string = \"\".join(letter_list)\n",
    "\n",
    "link_string"
   ]
  },
  {
   "cell_type": "markdown",
   "metadata": {},
   "source": [
    "## Problem 2\n",
    "Download the PDF from the Google Drive link and find the phone number that is in the document"
   ]
  },
  {
   "cell_type": "code",
   "execution_count": 3,
   "metadata": {},
   "outputs": [],
   "source": [
    "import PyPDF2\n",
    "import re"
   ]
  },
  {
   "cell_type": "code",
   "execution_count": 43,
   "metadata": {},
   "outputs": [
    {
     "name": "stdout",
     "output_type": "stream",
     "text": [
      "The pdf page 13 contains the phone number 505.503.4455.\n"
     ]
    }
   ],
   "source": [
    "# File path\n",
    "data_path = 'data//15'\n",
    "file_path = f\"{data_path}//Exercise_Files//Find_the_Phone_Number.pdf\"\n",
    "\n",
    "# Phone number patterns\n",
    "phone_pattern1 = r'(\\d{3})-(\\d{3})-(\\d{4})'\n",
    "phone_pattern2 = r'\\d{3}-\\d{3}-\\d{4}'\n",
    "phone_pattern3 = r'(\\d{3}) \\d{3}-\\d{4}'\n",
    "phone_pattern4 = r'\\d{3}.\\d{3}.\\d{4}'\n",
    "phone_pattern5 = r'\\d{3} \\d{3} \\d{4}'\n",
    "\n",
    "pattern_list = [phone_pattern1,phone_pattern2,phone_pattern3,phone_pattern4,phone_pattern5]\n",
    "\n",
    "# Page number and phone\n",
    "page, phone_number = -1, None\n",
    "\n",
    "# Open pdf\n",
    "f = open(file_path,'rb')\n",
    "\n",
    "# Read pdf\n",
    "pdf_reader = PyPDF2.PdfReader(f)\n",
    "\n",
    "# Append each page to pdf_pages\n",
    "for p in range(len(pdf_reader.pages)):\n",
    "        \n",
    "    for pattern in pattern_list:\n",
    "        \n",
    "        results = re.search(pattern, pdf_reader.pages[p].extract_text())\n",
    "        \n",
    "        if results == None:\n",
    "            pass\n",
    "        else:\n",
    "            page = p\n",
    "            phone_number = results.group()\n",
    "            # phone_list = \"\".join(\"The pdf page \"+ str(p) + \" contains the phone number \"+ str(results.group()))\n",
    "\n",
    "print(f\"The pdf page {page} contains the phone number {phone_number}.\")"
   ]
  }
 ],
 "metadata": {
  "anaconda-cloud": {},
  "kernelspec": {
   "display_name": "Python 3 (ipykernel)",
   "language": "python",
   "name": "python3"
  },
  "language_info": {
   "codemirror_mode": {
    "name": "ipython",
    "version": 3
   },
   "file_extension": ".py",
   "mimetype": "text/x-python",
   "name": "python",
   "nbconvert_exporter": "python",
   "pygments_lexer": "ipython3",
   "version": "3.8.0"
  }
 },
 "nbformat": 4,
 "nbformat_minor": 2
}
