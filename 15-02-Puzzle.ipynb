{
 "cells": [
  {
   "cell_type": "markdown",
   "metadata": {},
   "source": [
    "___\n",
    "\n",
    "<a href='https://www.udemy.com/user/joseportilla/'><img src='../Pierian_Data_Logo.png'/></a>\n",
    "___\n",
    "<center><em>Content Copyright by Pierian Data</em></center>"
   ]
  },
  {
   "cell_type": "markdown",
   "metadata": {},
   "source": [
    "# PDFs and Spreadsheets Puzzle Exercise\n",
    "\n",
    "Let's test your skills, the files needed for this puzzle exercise\n",
    "\n",
    "You will need to work with two files for this exercise and solve the following tasks:\n",
    "\n",
    "* Task One: Use Python to extract the Google Drive link from the .csv file. (Hint: Its along the diagonal from top left to bottom right).\n",
    "* Task Two: Download the PDF from the Google Drive link (we already downloaded it for you just in case you can't download from Google Drive) and find the phone number that is in the document. Note: There are different ways of formatting a phone number!"
   ]
  },
  {
   "cell_type": "markdown",
   "metadata": {},
   "source": [
    "## Task One: Grab the Google Drive Link from .csv File"
   ]
  },
  {
   "cell_type": "code",
   "execution_count": 2,
   "metadata": {},
   "outputs": [],
   "source": [
    "import csv\n",
    "import os"
   ]
  },
  {
   "cell_type": "code",
   "execution_count": 6,
   "metadata": {},
   "outputs": [
    {
     "data": {
      "text/plain": [
       "['find_the_link.csv', 'Find_the_Phone_Number.pdf']"
      ]
     },
     "execution_count": 6,
     "metadata": {},
     "output_type": "execute_result"
    }
   ],
   "source": [
    "os.listdir(\"Exercise_Files\")"
   ]
  },
  {
   "cell_type": "code",
   "execution_count": 10,
   "metadata": {},
   "outputs": [],
   "source": [
    "data = open('Exercise_Files\\\\find_the_link.csv', encoding=\"utf-8\")"
   ]
  },
  {
   "cell_type": "code",
   "execution_count": 13,
   "metadata": {},
   "outputs": [],
   "source": [
    "csv_data = csv.reader(data)\n",
    "data_lines = list(csv_data)"
   ]
  },
  {
   "cell_type": "code",
   "execution_count": 36,
   "metadata": {},
   "outputs": [],
   "source": [
    "letter_list = []\n",
    "for line in range(len(data_lines)):\n",
    "    letter_list += data_lines[line][line]"
   ]
  },
  {
   "cell_type": "code",
   "execution_count": 40,
   "metadata": {},
   "outputs": [],
   "source": [
    "link_string = \"\".join(letter_list)"
   ]
  },
  {
   "cell_type": "code",
   "execution_count": 41,
   "metadata": {},
   "outputs": [
    {
     "data": {
      "text/plain": [
       "'https://drive.google.com/open?id=1G6SEgg018UB4_4xsAJJ5TdzrhmXipr4Q'"
      ]
     },
     "execution_count": 41,
     "metadata": {},
     "output_type": "execute_result"
    }
   ],
   "source": [
    "link_string"
   ]
  },
  {
   "cell_type": "markdown",
   "metadata": {},
   "source": [
    "## Task Two: Download the PDF from the Google Drive link and find the phone number that is in the document. "
   ]
  },
  {
   "cell_type": "code",
   "execution_count": 54,
   "metadata": {},
   "outputs": [],
   "source": [
    "import PyPDF2\n",
    "import re"
   ]
  },
  {
   "cell_type": "code",
   "execution_count": 45,
   "metadata": {},
   "outputs": [],
   "source": [
    "f = open('Exercise_Files\\\\Find_the_Phone_Number.pdf','rb')"
   ]
  },
  {
   "cell_type": "code",
   "execution_count": 48,
   "metadata": {},
   "outputs": [],
   "source": [
    "# List of every page's text.\n",
    "# The index will correspond to the page number.\n",
    "pdf_text = []\n",
    "\n",
    "pdf_reader = PyPDF2.PdfFileReader(f)\n",
    "\n",
    "for p in range(pdf_reader.numPages):\n",
    "    \n",
    "    page = pdf_reader.getPage(p)\n",
    "    \n",
    "    pdf_text.append(page.extractText())"
   ]
  },
  {
   "cell_type": "code",
   "execution_count": 52,
   "metadata": {},
   "outputs": [
    {
     "data": {
      "text/plain": [
       "\"Business Deliverables  \\n \\n \\nStaff engagement touch base yet can I just chime in on that one draw a line in the sand \\nthis proposal is a win -win situation which will cause a stellar paradigm shift, and \\nproduce a multi -fold increase in deliverables but future -proof. I dont care if you got some \\ncopy, why you dont use officeipsumcom or something like that ? low -hanging fruit beef \\nup, and optimize for search or we need to leverage our synergies. We need to make the \\nnew version clean and sexy bells and whist les, so meeting assassin, and execute . \\nBaseline the procedure and samepage your department push back yet strategic high -\\nlevel 30,000 ft view powerPointless, but deliverables nor circle back. Paddle on both \\nsides conversational content win -win-win nor pig in a python overcome key issues to \\nmeet key milestones. Personal development crisp ppt deep dive. Can we parallel path \\nblue sky and this proposal is a win -win situation which will cause a stellar paradigm \\nshift, and produce a multi -fold increase in deliver ables. Where the metal hits the meat \\nhorsehead offer. Onward and upward, productize the deliverables and focus on the \\nbottom line we’re starting to formalize flexible opinions around our foundations so \\nknowledge process outsourcing. Slow -walk our commitmen t synergize productive \\nmindfulness so high turnaround rate we need to harvest synergy effects. Who's the goto \\non this job with the way forward tbrand terrorists. Your work on this project has been \\nreally impactful. Pushback quantity shoot me an email so si ngle wringable neck hit the \\nground running i’ve been doing some research this morning and we need to better. Roll \\nback strategy move the needle digitalize. Create spaces to explore what’s next. \\nPerformance review let's not solutionize this right now parkin g lot it so win -win-win and \\nfast track gain traction. At the end of the day player -coach nor we need to leverage our \\nsynergies. Can we take this offline vec we've bootstrapped the model nor feature creep.  \\n \\n \\nChurning anomalies. Face time. Are we in agreeanc e 60% to 30% is a lot of persent no \\nscraps hit the floor, nor critical mass. Can you run this by clearance? hot johnny coming \\nthrough . This proposal is a win -win situation which will cause a stellar paradigm shift, \\nand produce a multi -fold increase in del iverables we need to aspirationalise our \\nofferings so this vendor is incompetent , nor organic growth. Dog and pony show. Turn \\nthe ship. If you want to motivate these clowns, try less carrot and more stick imagineer, \\nbut product market fit and we need to c rystallize a plan pro -sumer software for strategic \\nfit programmatically.  \\n \\n \""
      ]
     },
     "execution_count": 52,
     "metadata": {},
     "output_type": "execute_result"
    }
   ],
   "source": [
    "pdf_text[0]"
   ]
  },
  {
   "cell_type": "code",
   "execution_count": 67,
   "metadata": {},
   "outputs": [],
   "source": [
    "phone_pattern = r'\\w{2}'\n",
    "results = re.search(phone_pattern,pdf_text[0])"
   ]
  },
  {
   "cell_type": "code",
   "execution_count": 68,
   "metadata": {},
   "outputs": [
    {
     "data": {
      "text/plain": [
       "<re.Match object; span=(0, 2), match='Bu'>"
      ]
     },
     "execution_count": 68,
     "metadata": {},
     "output_type": "execute_result"
    }
   ],
   "source": [
    "results"
   ]
  },
  {
   "cell_type": "code",
   "execution_count": 85,
   "metadata": {},
   "outputs": [],
   "source": [
    "phone_pattern1 = r'(\\d{3})-(\\d{3})-(\\d{4})'\n",
    "phone_pattern2 = r'\\d{3}-\\d{3}-\\d{4}'\n",
    "phone_pattern3 = r'(\\d{3}) \\d{3}-\\d{4}'\n",
    "phone_pattern4 = r'\\d{3}.\\d{3}.\\d{4}'\n",
    "phone_pattern5 = r'\\d{3} \\d{3} \\d{4}'\n",
    "\n",
    "pattern_list = [phone_pattern1,phone_pattern2,phone_pattern3,phone_pattern4,phone_pattern5]\n",
    "\n",
    "for p in range(len(pdf_text)):\n",
    "    \n",
    "    for pattern in pattern_list:\n",
    "        \n",
    "        results = re.search(pattern,pdf_text[p])\n",
    "        \n",
    "        if results == None:\n",
    "            pass\n",
    "        else:\n",
    "            phone_list = \"\".join(\"The pdf page \"+ str(p) + \" contains the phone number \"+ str(results.group()))"
   ]
  },
  {
   "cell_type": "code",
   "execution_count": 84,
   "metadata": {},
   "outputs": [
    {
     "data": {
      "text/plain": [
       "'The pdf page 13 contains the phone number 505.503.4455'"
      ]
     },
     "execution_count": 84,
     "metadata": {},
     "output_type": "execute_result"
    }
   ],
   "source": [
    "phone_list"
   ]
  },
  {
   "cell_type": "code",
   "execution_count": 1,
   "metadata": {
    "collapsed": true
   },
   "outputs": [],
   "source": [
    "# You should get this phone number\n",
    "# 505 503 4455"
   ]
  }
 ],
 "metadata": {
  "anaconda-cloud": {},
  "kernelspec": {
   "display_name": "Python 3 (ipykernel)",
   "language": "python",
   "name": "python3"
  },
  "language_info": {
   "codemirror_mode": {
    "name": "ipython",
    "version": 3
   },
   "file_extension": ".py",
   "mimetype": "text/x-python",
   "name": "python",
   "nbconvert_exporter": "python",
   "pygments_lexer": "ipython3",
   "version": "3.9.12"
  }
 },
 "nbformat": 4,
 "nbformat_minor": 2
}
