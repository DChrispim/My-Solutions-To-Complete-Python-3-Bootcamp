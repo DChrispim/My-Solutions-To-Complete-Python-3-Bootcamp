{
 "cells": [
  {
   "cell_type": "markdown",
   "metadata": {},
   "source": [
    "# 07-02-Homework"
   ]
  },
  {
   "cell_type": "markdown",
   "metadata": {},
   "source": [
    "___\n",
    "## Problem 1\n",
    "Handle the exception thrown by the code\n",
    "\n",
    "    for i in ['a','b','c']:\n",
    "        print(i**2)\n",
    "\n",
    "by using <code>try</code> and <code>except</code> blocks."
   ]
  },
  {
   "cell_type": "code",
   "execution_count": 1,
   "metadata": {},
   "outputs": [
    {
     "name": "stdout",
     "output_type": "stream",
     "text": [
      "Writing programs/07-02-Homework/simple_try_except.py\n"
     ]
    }
   ],
   "source": [
    "%%writefile \"programs/07-02-Homework/simple_try_except.py\"\n",
    "\n",
    "if __name__ == '__main__':\n",
    "    try:\n",
    "        for i in ['a','b','c']:\n",
    "            print(i**2)\n",
    "    except TypeError:\n",
    "        print(\"Error: You used the wrong data type\") "
   ]
  },
  {
   "cell_type": "code",
   "execution_count": 3,
   "metadata": {},
   "outputs": [
    {
     "name": "stdout",
     "output_type": "stream",
     "text": [
      "Error: You used the wrong data type\n"
     ]
    }
   ],
   "source": [
    "! python3 \"programs/07-02-Homework/simple_try_except.py\""
   ]
  },
  {
   "cell_type": "markdown",
   "metadata": {},
   "source": [
    "___\n",
    "## Problem 2\n",
    "Handle the exception thrown by the code\n",
    "\n",
    "    x = 5\n",
    "    y = 0\n",
    "    z = x/y\n",
    "\n",
    "by using <code>try</code> and <code>except</code> blocks. Then use a <code>finally</code> block to print 'All Done.'"
   ]
  },
  {
   "cell_type": "code",
   "execution_count": 4,
   "metadata": {},
   "outputs": [
    {
     "name": "stdout",
     "output_type": "stream",
     "text": [
      "Writing programs/07-02-Homework/simple_try_except_finally.py\n"
     ]
    }
   ],
   "source": [
    "%%writefile \"programs/07-02-Homework/simple_try_except_finally.py\"\n",
    "\n",
    "if __name__ == '__main__':\n",
    "    try:\n",
    "        x = 5\n",
    "        y = 0\n",
    "        z = x/y\n",
    "    except ZeroDivisionError:\n",
    "        print(\"Division by zero if ill-defined.\") \n",
    "    finally:\n",
    "        print(\"All Done.\") "
   ]
  },
  {
   "cell_type": "code",
   "execution_count": 5,
   "metadata": {},
   "outputs": [
    {
     "name": "stdout",
     "output_type": "stream",
     "text": [
      "Division by zero if ill-defined.\n",
      "All Done.\n"
     ]
    }
   ],
   "source": [
    "! python3 \"programs/07-02-Homework/simple_try_except_finally.py\""
   ]
  },
  {
   "cell_type": "markdown",
   "metadata": {},
   "source": [
    "___\n",
    "## Problem 3\n",
    "Write a function that asks for an integer and prints the square of it. Use a <code>while</code> loop with a <code>try</code>, <code>except</code>, <code>else</code> block to account for incorrect inputs."
   ]
  },
  {
   "cell_type": "code",
   "execution_count": 15,
   "metadata": {},
   "outputs": [
    {
     "name": "stdout",
     "output_type": "stream",
     "text": [
      "Overwriting programs/07-02-Homework/print_square_with_error_handling.py\n"
     ]
    }
   ],
   "source": [
    "%%writefile \"programs/07-02-Homework/print_square_with_error_handling.py\"\n",
    "from IPython.display import clear_output\n",
    "import os\n",
    "\n",
    "def print_square_with_error_handling():\n",
    "    while True:\n",
    "        try:\n",
    "            val = int(input(\"Please enter an integer: \"))\n",
    "        except:\n",
    "            clear_screen()\n",
    "            print(\"Looks like you did not enter an integer!\")\n",
    "            continue\n",
    "        else:\n",
    "            break\n",
    "    print(\"The square is \" + str(val**2))\n",
    "\n",
    "def clear_screen():\n",
    "    '''\n",
    "    Function that clears the output, uses different function depending on the environment\n",
    "    '''\n",
    "    try:\n",
    "        # Check if running in IPython environment\n",
    "        ipython = get_ipython()\n",
    "        if ipython is not None:\n",
    "            # Execute in IPython environment\n",
    "            clear_output(wait=True)\n",
    "    except NameError:\n",
    "        # Execute in Python terminal\n",
    "        os.system('cls' if os.name == 'nt' else 'clear')\n",
    "\n",
    "if __name__ == '__main__':\n",
    "    print_square_with_error_handling()"
   ]
  },
  {
   "cell_type": "code",
   "execution_count": 19,
   "metadata": {},
   "outputs": [
    {
     "name": "stdout",
     "output_type": "stream",
     "text": [
      "Looks like you did not enter an integer!\n",
      "The square is 9\n"
     ]
    }
   ],
   "source": [
    "%run \"programs/07-02-Homework/print_square_with_error_handling.py\""
   ]
  }
 ],
 "metadata": {
  "kernelspec": {
   "display_name": "TensorFlowGPU",
   "language": "python",
   "name": "tf_gpu"
  },
  "language_info": {
   "codemirror_mode": {
    "name": "ipython",
    "version": 3
   },
   "file_extension": ".py",
   "mimetype": "text/x-python",
   "name": "python",
   "nbconvert_exporter": "python",
   "pygments_lexer": "ipython3",
   "version": "3.8.0"
  }
 },
 "nbformat": 4,
 "nbformat_minor": 1
}
