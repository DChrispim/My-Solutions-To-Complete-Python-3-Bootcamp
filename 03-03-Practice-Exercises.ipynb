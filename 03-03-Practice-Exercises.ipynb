{
 "cells": [
  {
   "cell_type": "markdown",
   "metadata": {},
   "source": [
    "# 03-03-Practice Exercises"
   ]
  },
  {
   "cell_type": "markdown",
   "metadata": {},
   "source": [
    "___\n",
    "## Question 1\n",
    "Write a function called lesser_of_two_evens that returns the lesser of n given numbers *if* all numbers are even, but returns the greater if any numbers are odd."
   ]
  },
  {
   "cell_type": "code",
   "execution_count": 9,
   "metadata": {},
   "outputs": [
    {
     "name": "stdout",
     "output_type": "stream",
     "text": [
      "Overwriting programs/03-03-Practice-Exercises/lesser_of_two_evens.py\n"
     ]
    }
   ],
   "source": [
    "%%writefile \"programs/03-03-Practice-Exercises/lesser_of_two_evens.py\"\n",
    "\n",
    "#Generalization to n numbers\n",
    "def lesser_of_two_evens(*args):\n",
    "    if all(arg%2==0 for arg in args):\n",
    "        return min(args)\n",
    "    else:\n",
    "        return max(args)"
   ]
  },
  {
   "cell_type": "code",
   "execution_count": 10,
   "metadata": {},
   "outputs": [
    {
     "name": "stdout",
     "output_type": "stream",
     "text": [
      "Writing programs/03-03-Practice-Exercises/test_lesser_of_two_evens.py\n"
     ]
    }
   ],
   "source": [
    "%%writefile \"programs/03-03-Practice-Exercises/test_lesser_of_two_evens.py\"\n",
    "import unittest\n",
    "from lesser_of_two_evens import *\n",
    "\n",
    "class TestLesserOfTwoEvens(unittest.TestCase):\n",
    "    def test_all_even(self):\n",
    "        result = lesser_of_two_evens(2, 4, 6, 8, 10)\n",
    "        self.assertEqual(result, 2)\n",
    "\n",
    "    def test_all_odd(self):\n",
    "        result = lesser_of_two_evens(1, 3, 5, 7, 9)\n",
    "        self.assertEqual(result, 9)\n",
    "\n",
    "    def test_mixed_numbers(self):\n",
    "        result = lesser_of_two_evens(1, 4, 7, 8, 10)\n",
    "        self.assertEqual(result, 10)\n",
    "\n",
    "    def test_single_number(self):\n",
    "        result = lesser_of_two_evens(3)\n",
    "        self.assertEqual(result, 3)\n",
    "\n",
    "    def test_original_1(self):\n",
    "        result = lesser_of_two_evens(2,4)\n",
    "        self.assertEqual(result, 2)\n",
    "\n",
    "    def test_original_2(self):\n",
    "        result = lesser_of_two_evens(2,5)\n",
    "        self.assertEqual(result, 5)\n",
    "\n",
    "    def test_original_3(self):\n",
    "        result = lesser_of_two_evens(3,7)\n",
    "        self.assertEqual(result, 7)\n",
    "\n",
    "if __name__ == '__main__':\n",
    "    unittest.main()"
   ]
  },
  {
   "cell_type": "code",
   "execution_count": 11,
   "metadata": {},
   "outputs": [
    {
     "name": "stderr",
     "output_type": "stream",
     "text": [
      ".......\n",
      "----------------------------------------------------------------------\n",
      "Ran 7 tests in 0.000s\n",
      "\n",
      "OK\n"
     ]
    }
   ],
   "source": [
    "! python \"programs/03-03-Practice-Exercises/test_lesser_of_two_evens.py\""
   ]
  },
  {
   "cell_type": "markdown",
   "metadata": {},
   "source": [
    "___\n",
    "## Question 2\n",
    "ANIMAL CRACKERS: Write a function takes a two-word string and returns True if both words begin with same letter\n",
    "    \n",
    "    animal_crackers('Levelheaded Llama') --> True\n",
    "    animal_crackers('Crazy Kangaroo') --> False"
   ]
  },
  {
   "cell_type": "code",
   "execution_count": 12,
   "metadata": {},
   "outputs": [
    {
     "name": "stdout",
     "output_type": "stream",
     "text": [
      "Writing programs/03-03-Practice-Exercises/animal_crackers.py\n"
     ]
    }
   ],
   "source": [
    "%%writefile \"programs/03-03-Practice-Exercises/animal_crackers.py\"\n",
    "\n",
    "def animal_crackers(text):\n",
    "    first_word, second_word = text.lower().split()\n",
    "    return first_word[0] == second_word[0]"
   ]
  },
  {
   "cell_type": "code",
   "execution_count": 13,
   "metadata": {},
   "outputs": [
    {
     "name": "stdout",
     "output_type": "stream",
     "text": [
      "Writing programs/03-03-Practice-Exercises/test_animal_crackers.py\n"
     ]
    }
   ],
   "source": [
    "%%writefile \"programs/03-03-Practice-Exercises/test_animal_crackers.py\"\n",
    "import unittest\n",
    "from animal_crackers import *\n",
    "\n",
    "class TestAnimalCrackers(unittest.TestCase):\n",
    "\n",
    "    def test_original_1(self):\n",
    "        result = animal_crackers('Levelheaded Llama')\n",
    "        self.assertEqual(result, True)\n",
    "\n",
    "    def test_original_2(self):\n",
    "        result = animal_crackers('Levelheaded llama')\n",
    "        self.assertEqual(result, True)\n",
    "\n",
    "    def test_original_3(self):\n",
    "        result = animal_crackers('Crazy Kangaroo')\n",
    "        self.assertEqual(result, False)\n",
    "\n",
    "if __name__ == '__main__':\n",
    "    unittest.main()"
   ]
  },
  {
   "cell_type": "code",
   "execution_count": 14,
   "metadata": {},
   "outputs": [
    {
     "name": "stderr",
     "output_type": "stream",
     "text": [
      "...\n",
      "----------------------------------------------------------------------\n",
      "Ran 3 tests in 0.000s\n",
      "\n",
      "OK\n"
     ]
    }
   ],
   "source": [
    "! python \"programs/03-03-Practice-Exercises/test_animal_crackers.py\""
   ]
  },
  {
   "cell_type": "markdown",
   "metadata": {},
   "source": [
    "## Question 3\n",
    "Write a function called makes_twenty that accepts n integers, return True if the sum of the integers is 20 *or* if one of the integers is 20. If not, return False"
   ]
  },
  {
   "cell_type": "code",
   "execution_count": 15,
   "metadata": {},
   "outputs": [
    {
     "name": "stdout",
     "output_type": "stream",
     "text": [
      "Writing programs/03-03-Practice-Exercises/makes_twenty.py\n"
     ]
    }
   ],
   "source": [
    "%%writefile \"programs/03-03-Practice-Exercises/makes_twenty.py\"\n",
    "\n",
    "#Generalization to sum of n numbers\n",
    "def makes_twenty(*args):\n",
    "    return sum(args) == 20 or any(arg==20 for arg in args)"
   ]
  },
  {
   "cell_type": "code",
   "execution_count": 16,
   "metadata": {},
   "outputs": [
    {
     "name": "stdout",
     "output_type": "stream",
     "text": [
      "Writing programs/03-03-Practice-Exercises/test_makes_twenty.py\n"
     ]
    }
   ],
   "source": [
    "%%writefile \"programs/03-03-Practice-Exercises/test_makes_twenty.py\"\n",
    "import unittest\n",
    "from makes_twenty import *\n",
    "\n",
    "class TestMakesTwenty(unittest.TestCase):\n",
    "\n",
    "    def test_original_1(self):\n",
    "        result = makes_twenty(20,10)\n",
    "        self.assertEqual(result, True)\n",
    "\n",
    "    def test_original_2(self):\n",
    "        result = makes_twenty(12,8)\n",
    "        self.assertEqual(result, True)\n",
    "\n",
    "    def test_original_3(self):\n",
    "        result = makes_twenty(2,3)\n",
    "        self.assertEqual(result, False)\n",
    "\n",
    "    def test_n_numbers_1(self):\n",
    "        result = makes_twenty(1,2,44,7,8,20,3)\n",
    "        self.assertEqual(result, True)\n",
    "    \n",
    "    def test_n_numbers_2(self):\n",
    "        result = makes_twenty(0)\n",
    "        self.assertEqual(result, False)\n",
    "    \n",
    "    def test_n_numbers_3(self):\n",
    "        result = makes_twenty(20)\n",
    "        self.assertEqual(result, True)\n",
    "        \n",
    "    def test_n_numbers_4(self):\n",
    "        result = makes_twenty(5,5,5,5)\n",
    "        self.assertEqual(result, True)\n",
    "\n",
    "if __name__ == '__main__':\n",
    "    unittest.main()"
   ]
  },
  {
   "cell_type": "code",
   "execution_count": 17,
   "metadata": {},
   "outputs": [
    {
     "name": "stderr",
     "output_type": "stream",
     "text": [
      ".......\n",
      "----------------------------------------------------------------------\n",
      "Ran 7 tests in 0.000s\n",
      "\n",
      "OK\n"
     ]
    }
   ],
   "source": [
    "! python \"programs/03-03-Practice-Exercises/test_makes_twenty.py\""
   ]
  },
  {
   "cell_type": "markdown",
   "metadata": {},
   "source": [
    "___\n",
    "## Question 4\n",
    "Write a function called old_macdonald that accepts a string and returns the first and fourth letters of a name capitalized"
   ]
  },
  {
   "cell_type": "code",
   "execution_count": 18,
   "metadata": {},
   "outputs": [
    {
     "name": "stdout",
     "output_type": "stream",
     "text": [
      "Writing programs/03-03-Practice-Exercises/old_macdonald.py\n"
     ]
    }
   ],
   "source": [
    "%%writefile \"programs/03-03-Practice-Exercises/old_macdonald.py\"\n",
    "\n",
    "def old_macdonald(name):\n",
    "    if len(name) < 4:\n",
    "        raise Exception(\"Use a string name greater than 3.\")\n",
    "    \n",
    "    name1 = name[0:3]\n",
    "    name2 = name[3:]\n",
    "    return name1.capitalize() + name2.capitalize()"
   ]
  },
  {
   "cell_type": "code",
   "execution_count": 19,
   "metadata": {},
   "outputs": [
    {
     "name": "stdout",
     "output_type": "stream",
     "text": [
      "Writing programs/03-03-Practice-Exercises/test_old_macdonald.py\n"
     ]
    }
   ],
   "source": [
    "%%writefile \"programs/03-03-Practice-Exercises/test_old_macdonald.py\"\n",
    "import unittest\n",
    "from old_macdonald import *\n",
    "\n",
    "\n",
    "class TestOldMacdonald(unittest.TestCase):\n",
    "\n",
    "    def test_original_1(self):\n",
    "        result = old_macdonald('macdonald')\n",
    "        self.assertEqual(result, 'MacDonald')\n",
    "    \n",
    "    def test_long_name(self):\n",
    "        result = old_macdonald('longname')\n",
    "        self.assertEqual(result, 'LonGname')\n",
    "    \n",
    "    def test_short_name(self):\n",
    "        with self.assertRaises(Exception) as context:\n",
    "            old_macdonald('sho')\n",
    "\n",
    "        self.assertTrue(\"Use a string name greater than 3.\" in str(context.exception))\n",
    "\n",
    "\n",
    "if __name__ == '__main__':\n",
    "    unittest.main()"
   ]
  },
  {
   "cell_type": "code",
   "execution_count": 20,
   "metadata": {},
   "outputs": [
    {
     "name": "stderr",
     "output_type": "stream",
     "text": [
      "...\n",
      "----------------------------------------------------------------------\n",
      "Ran 3 tests in 0.000s\n",
      "\n",
      "OK\n"
     ]
    }
   ],
   "source": [
    "! python \"programs/03-03-Practice-Exercises/test_old_macdonald.py\""
   ]
  },
  {
   "cell_type": "markdown",
   "metadata": {},
   "source": [
    "___\n",
    "## Question 5\n",
    "Write a programam called master_yoda that receives a sentence (string) and returns a sentence with the words reversed"
   ]
  },
  {
   "cell_type": "code",
   "execution_count": 21,
   "metadata": {},
   "outputs": [
    {
     "name": "stdout",
     "output_type": "stream",
     "text": [
      "Writing programs/03-03-Practice-Exercises/master_yoda.py\n"
     ]
    }
   ],
   "source": [
    "%%writefile \"programs/03-03-Practice-Exercises/master_yoda.py\"\n",
    "\n",
    "def master_yoda(text):\n",
    "    return \" \".join(text.split()[::-1])"
   ]
  },
  {
   "cell_type": "code",
   "execution_count": 22,
   "metadata": {},
   "outputs": [
    {
     "name": "stdout",
     "output_type": "stream",
     "text": [
      "Writing programs/03-03-Practice-Exercises/test_master_yoda.py\n"
     ]
    }
   ],
   "source": [
    "%%writefile \"programs/03-03-Practice-Exercises/test_master_yoda.py\"\n",
    "import unittest\n",
    "from master_yoda import *\n",
    "\n",
    "class TestMasterYoda(unittest.TestCase):\n",
    "\n",
    "    def test_original_1(self):\n",
    "        result = master_yoda('I am home')\n",
    "        self.assertEqual(result, 'home am I')\n",
    "    \n",
    "    def test_original_2(self):\n",
    "        result = master_yoda('We are ready')\n",
    "        self.assertEqual(result, 'ready are We')\n",
    "    \n",
    "    def test_one_word_phrase(self):\n",
    "        result = master_yoda('Ready!')\n",
    "        self.assertEqual(result, 'Ready!')\n",
    "\n",
    "if __name__ == '__main__':\n",
    "    unittest.main()"
   ]
  },
  {
   "cell_type": "code",
   "execution_count": 23,
   "metadata": {},
   "outputs": [
    {
     "name": "stderr",
     "output_type": "stream",
     "text": [
      "...\n",
      "----------------------------------------------------------------------\n",
      "Ran 3 tests in 0.000s\n",
      "\n",
      "OK\n"
     ]
    }
   ],
   "source": [
    "! python \"programs/03-03-Practice-Exercises/test_master_yoda.py\""
   ]
  },
  {
   "cell_type": "markdown",
   "metadata": {},
   "source": [
    "___\n",
    "## Question 6\n",
    "Write a function called almost_there that receives an integer n and a multiplier k. The program must returns True if n is within 10 of x * 100 for 0 < x < k (x is an integer)"
   ]
  },
  {
   "cell_type": "code",
   "execution_count": 31,
   "metadata": {},
   "outputs": [
    {
     "name": "stdout",
     "output_type": "stream",
     "text": [
      "Overwriting programs/03-03-Practice-Exercises/almost_there.py\n"
     ]
    }
   ],
   "source": [
    "%%writefile \"programs/03-03-Practice-Exercises/almost_there.py\"\n",
    "\n",
    "def almost_there_n(n,k):\n",
    "    if k <= 0:\n",
    "        raise Exception(\"K must be greater than 1\")\n",
    "    return min([abs(n - k * 100) for k in range(1,k+1)]) <= 10"
   ]
  },
  {
   "cell_type": "code",
   "execution_count": 32,
   "metadata": {},
   "outputs": [
    {
     "name": "stdout",
     "output_type": "stream",
     "text": [
      "Overwriting programs/03-03-Practice-Exercises/test_almost_there.py\n"
     ]
    }
   ],
   "source": [
    "%%writefile \"programs/03-03-Practice-Exercises/test_almost_there.py\"\n",
    "import unittest\n",
    "from almost_there import *\n",
    "\n",
    "class TestAlmostThereN(unittest.TestCase):\n",
    "\n",
    "    def test_original_1(self):\n",
    "        result = almost_there_n(90,2)\n",
    "        self.assertEqual(result, True)\n",
    "    \n",
    "    def test_original_2(self):\n",
    "        result = almost_there_n(104,2)\n",
    "        self.assertEqual(result, True)\n",
    "    \n",
    "    def test_original_3(self):\n",
    "        result = almost_there_n(150,2)\n",
    "        self.assertEqual(result, False)\n",
    "    \n",
    "    def test_original_4(self):\n",
    "        result = almost_there_n(209,2)\n",
    "        self.assertEqual(result, True)\n",
    "\n",
    "    def test_1(self):\n",
    "        result = almost_there_n(209,3)\n",
    "        self.assertEqual(result, True)\n",
    "\n",
    "    def test_2(self):\n",
    "        result = almost_there_n(309,3)\n",
    "        self.assertEqual(result, True)\n",
    "\n",
    "    def test_3(self):\n",
    "        result = almost_there_n(409,3)\n",
    "        self.assertEqual(result, False)\n",
    "\n",
    "    def test_exception(self):\n",
    "        with self.assertRaises(Exception) as context:\n",
    "            almost_there_n(9,0)\n",
    "\n",
    "        self.assertTrue(\"K must be greater than 1\" in str(context.exception))\n",
    "\n",
    "\n",
    "if __name__ == '__main__':\n",
    "    unittest.main()"
   ]
  },
  {
   "cell_type": "code",
   "execution_count": 33,
   "metadata": {},
   "outputs": [
    {
     "name": "stderr",
     "output_type": "stream",
     "text": [
      "........\n",
      "----------------------------------------------------------------------\n",
      "Ran 8 tests in 0.000s\n",
      "\n",
      "OK\n"
     ]
    }
   ],
   "source": [
    "! python \"programs/03-03-Practice-Exercises/test_almost_there.py\""
   ]
  },
  {
   "cell_type": "markdown",
   "metadata": {},
   "source": [
    "___\n",
    "## Question 7\n",
    "Write a function called has_nn that, given a list of ints, return True if the array contains a n next to a n somewhere.\n"
   ]
  },
  {
   "cell_type": "code",
   "execution_count": 35,
   "metadata": {},
   "outputs": [
    {
     "name": "stdout",
     "output_type": "stream",
     "text": [
      "Writing programs/03-03-Practice-Exercises/has_nn.py\n"
     ]
    }
   ],
   "source": [
    "%%writefile \"programs/03-03-Practice-Exercises/has_nn.py\"\n",
    "\n",
    "def has_nn(nums,n):\n",
    "    return any(x == (n, n) for x in zip(nums[:-1], nums[1:]))"
   ]
  },
  {
   "cell_type": "code",
   "execution_count": 37,
   "metadata": {},
   "outputs": [
    {
     "name": "stdout",
     "output_type": "stream",
     "text": [
      "Overwriting programs/03-03-Practice-Exercises/test_has_nn.py\n"
     ]
    }
   ],
   "source": [
    "%%writefile \"programs/03-03-Practice-Exercises/test_has_nn.py\"\n",
    "import unittest\n",
    "from has_nn import *\n",
    "\n",
    "class TestHasNN(unittest.TestCase):\n",
    "\n",
    "    def test_original_1(self):\n",
    "        result = has_nn([1, 3, 3], 3)\n",
    "        self.assertEqual(result, True)\n",
    "\n",
    "    def test_original_2(self):\n",
    "        result = has_nn([1, 3, 1, 3], 3)\n",
    "        self.assertEqual(result, False)\n",
    "\n",
    "    def test_original_3(self):\n",
    "        result = has_nn([3, 1, 3], 3)\n",
    "        self.assertEqual(result, False)\n",
    "\n",
    "    def test_1(self):\n",
    "        result = has_nn([3, 1, 3, 1, 1], 1)\n",
    "        self.assertEqual(result, True)\n",
    "\n",
    "    def test_2(self):\n",
    "        result = has_nn([3, 1, 3, 1, 1], 2)\n",
    "        self.assertEqual(result, False)\n",
    "    \n",
    "    def test_3(self):\n",
    "        result = has_nn([1, 1, 1, 2, 1, 2, 2], 2)\n",
    "        self.assertEqual(result, True)\n",
    "\n",
    "if __name__ == '__main__':\n",
    "    unittest.main()"
   ]
  },
  {
   "cell_type": "code",
   "execution_count": 38,
   "metadata": {},
   "outputs": [
    {
     "name": "stderr",
     "output_type": "stream",
     "text": [
      "......\n",
      "----------------------------------------------------------------------\n",
      "Ran 6 tests in 0.000s\n",
      "\n",
      "OK\n"
     ]
    }
   ],
   "source": [
    "! python \"programs/03-03-Practice-Exercises/test_has_nn.py\""
   ]
  },
  {
   "cell_type": "markdown",
   "metadata": {},
   "source": [
    "___\n",
    "## Question 8\n",
    "Write a function called paper_doll that, given a string, return a string where for every character in the original there are three characters"
   ]
  },
  {
   "cell_type": "code",
   "execution_count": 39,
   "metadata": {},
   "outputs": [
    {
     "name": "stdout",
     "output_type": "stream",
     "text": [
      "Writing programs/03-03-Practice-Exercises/paper_doll.py\n"
     ]
    }
   ],
   "source": [
    "%%writefile \"programs/03-03-Practice-Exercises/paper_doll.py\"\n",
    "def paper_doll(text):\n",
    "    paper_doll_text = \"\"\n",
    "    for i in range(len(text)):\n",
    "        paper_doll_text += text[i]*3\n",
    "    return paper_doll_text"
   ]
  },
  {
   "cell_type": "code",
   "execution_count": 40,
   "metadata": {},
   "outputs": [
    {
     "name": "stdout",
     "output_type": "stream",
     "text": [
      "Writing programs/03-03-Practice-Exercises/test_paper_doll.py\n"
     ]
    }
   ],
   "source": [
    "%%writefile \"programs/03-03-Practice-Exercises/test_paper_doll.py\"\n",
    "import unittest\n",
    "from paper_doll import *\n",
    "\n",
    "\n",
    "class TestPaperDoll(unittest.TestCase):\n",
    "\n",
    "    def test_original_1(self):\n",
    "        result = paper_doll('Hello')\n",
    "        self.assertEqual(result, 'HHHeeellllllooo')\n",
    "\n",
    "    def test_original_2(self):\n",
    "        result = paper_doll('Mississippi')\n",
    "        self.assertEqual(result, 'MMMiiissssssiiissssssiiippppppiii')\n",
    "\n",
    "if __name__ == '__main__':\n",
    "    unittest.main()"
   ]
  },
  {
   "cell_type": "code",
   "execution_count": 41,
   "metadata": {},
   "outputs": [
    {
     "name": "stderr",
     "output_type": "stream",
     "text": [
      "..\n",
      "----------------------------------------------------------------------\n",
      "Ran 2 tests in 0.000s\n",
      "\n",
      "OK\n"
     ]
    }
   ],
   "source": [
    "! python \"programs/03-03-Practice-Exercises/test_paper_doll.py\""
   ]
  },
  {
   "cell_type": "markdown",
   "metadata": {},
   "source": [
    "___\n",
    "## Question 9\n",
    "Write a function called blackjack that, given three integers between 1 and 11, if their sum is less than or equal to 21, return their sum. If their sum exceeds 21 *and* there's an eleven, reduce the total sum by 10. Finally, if the sum (even after adjustment) exceeds 21, return 'BUST'"
   ]
  },
  {
   "cell_type": "code",
   "execution_count": 43,
   "metadata": {},
   "outputs": [
    {
     "name": "stdout",
     "output_type": "stream",
     "text": [
      "Overwriting programs/03-03-Practice-Exercises/blackjack.py\n"
     ]
    }
   ],
   "source": [
    "%%writefile \"programs/03-03-Practice-Exercises/blackjack.py\"\n",
    "\n",
    "def blackjack(a,b,c):\n",
    "    sum_of_numbers = a + b + c\n",
    "    if sum_of_numbers <= 21:\n",
    "        return sum_of_numbers\n",
    "    elif sum_of_numbers >= 21 and a == 11 or b == 11 or c == 11:\n",
    "        return sum_of_numbers - 10\n",
    "    elif sum_of_numbers >= 21:\n",
    "        return \"BUST\""
   ]
  },
  {
   "cell_type": "code",
   "execution_count": 44,
   "metadata": {},
   "outputs": [
    {
     "name": "stdout",
     "output_type": "stream",
     "text": [
      "Writing programs/03-03-Practice-Exercises/test_blackjack.py\n"
     ]
    }
   ],
   "source": [
    "%%writefile \"programs/03-03-Practice-Exercises/test_blackjack.py\"\n",
    "import unittest\n",
    "from blackjack import *\n",
    "\n",
    "\n",
    "class TestBlackjack(unittest.TestCase):\n",
    "\n",
    "    def test_original_1(self):\n",
    "        result = blackjack(5,6,7)\n",
    "        self.assertEqual(result, 18)\n",
    "\n",
    "    def test_original_2(self):\n",
    "        result = blackjack(9,9,9)\n",
    "        self.assertEqual(result, 'BUST')\n",
    "    \n",
    "    def test_original_3(self):\n",
    "        result = blackjack(9,9,11)\n",
    "        self.assertEqual(result, 19)\n",
    "\n",
    "if __name__ == '__main__':\n",
    "    unittest.main()"
   ]
  },
  {
   "cell_type": "code",
   "execution_count": 45,
   "metadata": {},
   "outputs": [
    {
     "name": "stderr",
     "output_type": "stream",
     "text": [
      "...\n",
      "----------------------------------------------------------------------\n",
      "Ran 3 tests in 0.000s\n",
      "\n",
      "OK\n"
     ]
    }
   ],
   "source": [
    "! python \"programs/03-03-Practice-Exercises/test_blackjack.py\""
   ]
  },
  {
   "cell_type": "markdown",
   "metadata": {},
   "source": [
    "___\n",
    "## Question 10\n",
    "Write a function called summer_69 that returns the sum of the numbers in the array, except ignore sections of numbers starting with a 6 and extending to the next 9 (every 6 will be followed by at least one 9). Return 0 for no numbers"
   ]
  },
  {
   "cell_type": "code",
   "execution_count": 46,
   "metadata": {},
   "outputs": [
    {
     "name": "stdout",
     "output_type": "stream",
     "text": [
      "Writing programs/03-03-Practice-Exercises/summer_69.py\n"
     ]
    }
   ],
   "source": [
    "%%writefile \"programs/03-03-Practice-Exercises/summer_69.py\"\n",
    "\n",
    "def summer_69(arr):\n",
    "    gate = True\n",
    "    count = 0\n",
    "    for num in arr:\n",
    "        if num == 6:\n",
    "            gate = False\n",
    "        elif num == 9:\n",
    "            gate = True\n",
    "        elif gate == True:\n",
    "            count = count + num\n",
    "    return count"
   ]
  },
  {
   "cell_type": "code",
   "execution_count": 47,
   "metadata": {},
   "outputs": [
    {
     "name": "stdout",
     "output_type": "stream",
     "text": [
      "Writing programs/03-03-Practice-Exercises/test_summer_69.py\n"
     ]
    }
   ],
   "source": [
    "%%writefile \"programs/03-03-Practice-Exercises/test_summer_69.py\"\n",
    "import unittest\n",
    "from summer_69 import *\n",
    "\n",
    "class TestSummer69(unittest.TestCase):\n",
    "\n",
    "    def test_original_1(self):\n",
    "        result = summer_69([1, 3, 5])\n",
    "        self.assertEqual(result, 9)\n",
    "\n",
    "    def test_original_2(self):\n",
    "        result = summer_69([4, 5, 6, 7, 8, 9])\n",
    "        self.assertEqual(result, 9)\n",
    "\n",
    "    def test_original_3(self):\n",
    "        result = summer_69([2, 1, 6, 9, 11])\n",
    "        self.assertEqual(result, 14)\n",
    "\n",
    "    def test_1(self):\n",
    "        result = summer_69([])\n",
    "        self.assertEqual(result, 0)\n",
    "\n",
    "if __name__ == '__main__':\n",
    "    unittest.main()"
   ]
  },
  {
   "cell_type": "code",
   "execution_count": 48,
   "metadata": {},
   "outputs": [
    {
     "name": "stderr",
     "output_type": "stream",
     "text": [
      "....\n",
      "----------------------------------------------------------------------\n",
      "Ran 4 tests in 0.000s\n",
      "\n",
      "OK\n"
     ]
    }
   ],
   "source": [
    "! python \"programs/03-03-Practice-Exercises/test_summer_69.py\""
   ]
  },
  {
   "cell_type": "markdown",
   "metadata": {},
   "source": [
    "___\n",
    "## Question 11\n",
    "Write a function called spy_game that takes in a list of integers and returns True if it contains 007 in order\n"
   ]
  },
  {
   "cell_type": "code",
   "execution_count": 49,
   "metadata": {},
   "outputs": [
    {
     "name": "stdout",
     "output_type": "stream",
     "text": [
      "Writing programs/03-03-Practice-Exercises/spy_game.py\n"
     ]
    }
   ],
   "source": [
    "%%writefile \"programs/03-03-Practice-Exercises/spy_game.py\"\n",
    "\n",
    "def spy_game(nums):\n",
    "    clean_nums = [num for num in nums if num == 0 or num == 7]\n",
    "    return (0,0,7) in [x for x in zip(clean_nums[:-1], clean_nums[1:], clean_nums[2:])]"
   ]
  },
  {
   "cell_type": "code",
   "execution_count": 50,
   "metadata": {},
   "outputs": [
    {
     "name": "stdout",
     "output_type": "stream",
     "text": [
      "Writing programs/03-03-Practice-Exercises/test_spy_game.py\n"
     ]
    }
   ],
   "source": [
    "%%writefile \"programs/03-03-Practice-Exercises/test_spy_game.py\"\n",
    "import unittest\n",
    "from spy_game import *\n",
    "\n",
    "class TestSpyGame(unittest.TestCase):\n",
    "\n",
    "    def test_original_1(self):\n",
    "        result = spy_game([1,2,4,0,0,7,5,7])\n",
    "        self.assertEqual(result, True)\n",
    "\n",
    "    def test_original_2(self):\n",
    "        result = spy_game([1,2,4,0,0,7,5])\n",
    "        self.assertEqual(result, True)\n",
    "\n",
    "    def test_original_3(self):\n",
    "        result = spy_game([1,0,2,4,0,5,7])\n",
    "        self.assertEqual(result, True)\n",
    "\n",
    "    def test_original_4(self):\n",
    "        result = spy_game([1,7,2,0,4,5,0])\n",
    "        self.assertEqual(result, False)\n",
    "\n",
    "if __name__ == '__main__':\n",
    "    unittest.main()"
   ]
  },
  {
   "cell_type": "code",
   "execution_count": 51,
   "metadata": {},
   "outputs": [
    {
     "name": "stderr",
     "output_type": "stream",
     "text": [
      "....\n",
      "----------------------------------------------------------------------\n",
      "Ran 4 tests in 0.000s\n",
      "\n",
      "OK\n"
     ]
    }
   ],
   "source": [
    "! python \"programs/03-03-Practice-Exercises/test_spy_game.py\""
   ]
  },
  {
   "cell_type": "markdown",
   "metadata": {},
   "source": [
    "___\n",
    "## Question 12\n",
    "Write a function called count_primes that returns the *number* of prime numbers that exist up to and including a given number. By convention, 0 and 1 are not prime."
   ]
  },
  {
   "cell_type": "code",
   "execution_count": 52,
   "metadata": {},
   "outputs": [
    {
     "name": "stdout",
     "output_type": "stream",
     "text": [
      "Writing programs/03-03-Practice-Exercises/count_primes.py\n"
     ]
    }
   ],
   "source": [
    "%%writefile \"programs/03-03-Practice-Exercises/count_primes.py\"\n",
    "def count_primes(num):\n",
    "    primes = [2]\n",
    "    x = 3\n",
    "    if num < 2:  # for the case of num = 0 or 1\n",
    "        return 0\n",
    "    while x <= num:\n",
    "        for y in range(3, x, 2):  # test all odd factors up to x-1\n",
    "            if x % y == 0:\n",
    "                x += 2\n",
    "                break\n",
    "        else:\n",
    "            primes.append(x)\n",
    "            x += 2\n",
    "    return len(primes)"
   ]
  },
  {
   "cell_type": "code",
   "execution_count": 53,
   "metadata": {},
   "outputs": [
    {
     "name": "stdout",
     "output_type": "stream",
     "text": [
      "Writing programs/03-03-Practice-Exercises/test_count_primes.py\n"
     ]
    }
   ],
   "source": [
    "%%writefile \"programs/03-03-Practice-Exercises/test_count_primes.py\"\n",
    "import unittest\n",
    "from count_primes import *\n",
    "\n",
    "class TestCountPrimes(unittest.TestCase):\n",
    "\n",
    "    def test_original_1(self):\n",
    "        result = count_primes(10)\n",
    "        self.assertEqual(result, 4)\n",
    "\n",
    "    def test_original_2(self):\n",
    "        result = count_primes(100)\n",
    "        self.assertEqual(result, 25)\n",
    "\n",
    "if __name__ == '__main__':\n",
    "    unittest.main()"
   ]
  },
  {
   "cell_type": "code",
   "execution_count": 54,
   "metadata": {},
   "outputs": [
    {
     "name": "stderr",
     "output_type": "stream",
     "text": [
      "..\n",
      "----------------------------------------------------------------------\n",
      "Ran 2 tests in 0.000s\n",
      "\n",
      "OK\n"
     ]
    }
   ],
   "source": [
    "! python \"programs/03-03-Practice-Exercises/test_count_primes.py\"\n"
   ]
  },
  {
   "cell_type": "markdown",
   "metadata": {},
   "source": [
    "___\n",
    "## Question 13\n",
    "Write a function called print_big that takes in a single letter, and returns a 5x5 representation of that letter (up to the letter E). Ex:\n",
    "    print_big('a')\n",
    "    \n",
    "    out:   *  \n",
    "          * *\n",
    "         *****\n",
    "         *   *\n",
    "         *   *"
   ]
  },
  {
   "cell_type": "code",
   "execution_count": 65,
   "metadata": {},
   "outputs": [
    {
     "name": "stdout",
     "output_type": "stream",
     "text": [
      "Overwriting programs/03-03-Practice-Exercises/print_big.py\n"
     ]
    }
   ],
   "source": [
    "%%writefile \"programs/03-03-Practice-Exercises/print_big.py\"\n",
    "def print_big(letter):\n",
    "    patterns = {1: '  *  ', 2: ' * * ', 3: '*   *', 4: '*****',\n",
    "                5: '**** ', 6: '   * ', 7: ' *   ', 8: '*   * ', 9: '*    '}\n",
    "    alphabet = {'A': [1, 2, 4, 3, 3], 'B': [5, 3, 5, 3, 5], 'C': [\n",
    "        4, 9, 9, 9, 4], 'D': [5, 3, 3, 3, 5], 'E': [4, 9, 4, 9, 4]}\n",
    "    for pattern in alphabet[letter.upper()]:\n",
    "        print(patterns[pattern])\n",
    "\n",
    "if __name__ == '__main__':\n",
    "    letter = input(\"Which letter you want to print big? (up to letter E)\")\n",
    "    print_big(letter)"
   ]
  },
  {
   "cell_type": "code",
   "execution_count": 1,
   "metadata": {},
   "outputs": [
    {
     "name": "stdout",
     "output_type": "stream",
     "text": [
      "  *  \n",
      " * * \n",
      "*****\n",
      "*   *\n",
      "*   *\n"
     ]
    }
   ],
   "source": [
    "%run \"programs/03-03-Practice-Exercises/print_big.py\""
   ]
  }
 ],
 "metadata": {
  "kernelspec": {
   "display_name": "TensorFlowGPU",
   "language": "python",
   "name": "tf_gpu"
  },
  "language_info": {
   "codemirror_mode": {
    "name": "ipython",
    "version": 3
   },
   "file_extension": ".py",
   "mimetype": "text/x-python",
   "name": "python",
   "nbconvert_exporter": "python",
   "pygments_lexer": "ipython3",
   "version": "3.8.0"
  }
 },
 "nbformat": 4,
 "nbformat_minor": 2
}
