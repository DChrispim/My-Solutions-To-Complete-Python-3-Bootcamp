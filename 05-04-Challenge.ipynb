{
 "cells": [
  {
   "cell_type": "markdown",
   "metadata": {},
   "source": [
    "# 05-04-Challenge"
   ]
  },
  {
   "cell_type": "markdown",
   "metadata": {},
   "source": [
    "___\n",
    "## Question 1\n",
    "For this challenge, create a bank account class that has:\n",
    "- Attributes: owner and balance\n",
    "- Methods: deposit and withdraw\n",
    "\n",
    "As an added requirement, withdrawals may not exceed the available balance."
   ]
  },
  {
   "cell_type": "code",
   "execution_count": 2,
   "metadata": {},
   "outputs": [
    {
     "name": "stdout",
     "output_type": "stream",
     "text": [
      "Writing programs/05-04-Challenge/Account_class.py\n"
     ]
    }
   ],
   "source": [
    "%%writefile \"programs/05-04-Challenge/Account_class.py\"\n",
    "\n",
    "class Account:\n",
    "    \n",
    "    def __init__(self, owner=\"John Doe\", balance=0):\n",
    "        \"\"\"\n",
    "        Initialize an Account object.\n",
    "\n",
    "        :param owner: Owner of the account (default is \"John Doe\")\n",
    "        :param balance: Initial balance of the account (default is 0)\n",
    "        \"\"\"\n",
    "        self.owner = owner\n",
    "        self.balance = balance\n",
    "        \n",
    "    def __str__(self):\n",
    "        \"\"\"\n",
    "        Return a string representation of the Account object.\n",
    "        \"\"\"\n",
    "        return f\"Account owner: {self.owner}\\nAccount balance: {self.balance}\"\n",
    "        \n",
    "    def deposit(self, amount):\n",
    "        \"\"\"\n",
    "        Deposit funds into the account.\n",
    "\n",
    "        :param amount: Amount to deposit\n",
    "        \"\"\"\n",
    "        self.balance += amount\n",
    "        print(f\"Deposit Accepted! The new balance is {self.balance}\")\n",
    "        \n",
    "    def withdraw(self, amount):\n",
    "        \"\"\"\n",
    "        Withdraw funds from the account.\n",
    "\n",
    "        :param amount: Amount to withdraw\n",
    "        \"\"\"\n",
    "        if amount > self.balance:\n",
    "            raise ValueError(\"Funds Unavailable! The balance is insufficient to withdraw {}\".format(amount))\n",
    "        \n",
    "        self.balance -= amount\n",
    "        print(f\"Withdrawal Accepted! The new balance is {self.balance}\")\n"
   ]
  },
  {
   "cell_type": "code",
   "execution_count": 11,
   "metadata": {},
   "outputs": [
    {
     "name": "stdout",
     "output_type": "stream",
     "text": [
      "Overwriting programs/05-04-Challenge/test_Account_class.py\n"
     ]
    }
   ],
   "source": [
    "%%writefile \"programs/05-04-Challenge/test_Account_class.py\"\n",
    "\n",
    "import unittest\n",
    "from Account_class import *\n",
    "\n",
    "class TestAccountClass(unittest.TestCase):\n",
    "\n",
    "    def test_deposit(self):\n",
    "        # Test with default values\n",
    "        account1 = Account()\n",
    "        account1.deposit(100)\n",
    "        self.assertEqual(account1.balance, 100)\n",
    "        \n",
    "        # Test with custom values\n",
    "        account2 = Account(owner=\"Alice\", balance=500)\n",
    "        account2.deposit(200)\n",
    "        self.assertEqual(account2.balance, 700) \n",
    "\n",
    "    def test_withdraw(self):\n",
    "        # Test with custom values\n",
    "        account1 = Account(owner=\"Bob\", balance=1000)\n",
    "        account1.withdraw(700)\n",
    "        self.assertEqual(account1.balance, 300) \n",
    "\n",
    "    def test_insufficient_funds(self):\n",
    "        account = Account(owner=\"Charlie\", balance=200)\n",
    "        with self.assertRaises(ValueError):\n",
    "            account.withdraw(300)\n",
    "    \n",
    "    def test_operations(self):\n",
    "        # 1. Instantiate the class\n",
    "        account = Account('Jose',100)\n",
    "        self.assertEqual(account.balance, 100)\n",
    "        self.assertEqual(account.owner, 'Jose')\n",
    "        account.deposit(50)\n",
    "        self.assertEqual(account.balance, 150)\n",
    "        account.withdraw(75)\n",
    "        self.assertEqual(account.balance, 75)\n",
    "        with self.assertRaises(ValueError):\n",
    "            account.withdraw(500)\n",
    "\n",
    "if __name__ == '__main__':\n",
    "    unittest.main()\n"
   ]
  },
  {
   "cell_type": "code",
   "execution_count": 12,
   "metadata": {},
   "outputs": [
    {
     "name": "stdout",
     "output_type": "stream",
     "text": [
      "Deposit Accepted! The new balance is 100\n",
      "Deposit Accepted! The new balance is 700\n",
      "Deposit Accepted! The new balance is 150\n",
      "Withdrawal Accepted! The new balance is 75\n",
      "Withdrawal Accepted! The new balance is 300\n"
     ]
    },
    {
     "name": "stderr",
     "output_type": "stream",
     "text": [
      "....\n",
      "----------------------------------------------------------------------\n",
      "Ran 4 tests in 0.000s\n",
      "\n",
      "OK\n"
     ]
    }
   ],
   "source": [
    "! python3 \"programs/05-04-Challenge/test_Account_class.py\""
   ]
  }
 ],
 "metadata": {
  "kernelspec": {
   "display_name": "TensorFlowGPU",
   "language": "python",
   "name": "tf_gpu"
  },
  "language_info": {
   "codemirror_mode": {
    "name": "ipython",
    "version": 3
   },
   "file_extension": ".py",
   "mimetype": "text/x-python",
   "name": "python",
   "nbconvert_exporter": "python",
   "pygments_lexer": "ipython3",
   "version": "3.8.0"
  }
 },
 "nbformat": 4,
 "nbformat_minor": 2
}
