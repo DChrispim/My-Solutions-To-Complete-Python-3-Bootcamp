{
 "cells": [
  {
   "cell_type": "markdown",
   "metadata": {},
   "source": [
    "___\n",
    "\n",
    "<a href='https://www.udemy.com/user/joseportilla/'><img src='../../Pierian_Data_Logo.png'/></a>\n",
    "___\n",
    "<center><em>Content Copyright by Pierian Data</em></center>"
   ]
  },
  {
   "cell_type": "markdown",
   "metadata": {},
   "source": [
    "# Advanced Modules Exercise Puzzle\n",
    "\n",
    "It's time to test your new skills, this puzzle project will combine multiple skills sets, including unzipping files with Python, using os module to automatically search through lots of files.\n",
    "\n",
    "## Your Goal\n",
    "\n",
    "This is a puzzle, so we don't want to give you too much guidance and instead have you figure out things on your own.\n",
    "\n",
    "There is a .zip file called 'unzip_me_for_instructions.zip', unzip it, open the .txt file with Python, read the instructions and see if you can figure out what you need to do!\n",
    "\n",
    "**If you get stuck or don't know where to start, here is a [guide/hints](https://docs.google.com/document/d/1JxydUr4n4fSR0EwwuwT-aHia-yPK6r-oTBuVT2sqheo/edit?usp=sharing)**"
   ]
  },
  {
   "cell_type": "code",
   "execution_count": 21,
   "metadata": {},
   "outputs": [],
   "source": [
    "import os\n",
    "import zipfile\n",
    "import shutil\n",
    "import re"
   ]
  },
  {
   "cell_type": "code",
   "execution_count": 1,
   "metadata": {},
   "outputs": [
    {
     "data": {
      "text/plain": [
       "'C:\\\\Users\\\\Breno\\\\Complete-Python-3-Bootcamp-master\\\\12-Advanced Python Modules\\\\08-Advanced-Python-Module-Exercise'"
      ]
     },
     "execution_count": 1,
     "metadata": {},
     "output_type": "execute_result"
    }
   ],
   "source": [
    "pwd"
   ]
  },
  {
   "cell_type": "code",
   "execution_count": 4,
   "metadata": {},
   "outputs": [
    {
     "data": {
      "text/plain": [
       "['.ipynb_checkpoints',\n",
       " '07-Advanced-Modules-Exercise-Puzzle.ipynb',\n",
       " '08-Advanced-Modules-Exercise-Solutions.ipynb',\n",
       " 'extracted_content',\n",
       " 'unzip_me_for_instructions.zip']"
      ]
     },
     "execution_count": 4,
     "metadata": {},
     "output_type": "execute_result"
    }
   ],
   "source": [
    "os.listdir()"
   ]
  },
  {
   "cell_type": "code",
   "execution_count": 8,
   "metadata": {},
   "outputs": [],
   "source": [
    "zip_obj = zipfile.ZipFile('unzip_me_for_instructions.zip','r')"
   ]
  },
  {
   "cell_type": "code",
   "execution_count": 9,
   "metadata": {},
   "outputs": [],
   "source": [
    "zip_obj.extractall(\"unzip_me_for_instructions\")"
   ]
  },
  {
   "cell_type": "code",
   "execution_count": 15,
   "metadata": {},
   "outputs": [
    {
     "data": {
      "text/plain": [
       "['Five', 'Four', 'Instructions.txt', 'One', 'Three', 'Two']"
      ]
     },
     "execution_count": 15,
     "metadata": {},
     "output_type": "execute_result"
    }
   ],
   "source": [
    "os.listdir(\"unzip_me_for_instructions\\\\extracted_content\")"
   ]
  },
  {
   "cell_type": "code",
   "execution_count": 27,
   "metadata": {},
   "outputs": [
    {
     "name": "stdout",
     "output_type": "stream",
     "text": [
      "Good work on unzipping the file!\n",
      "You should now see 5 folders, each with a lot of random .txt files.\n",
      "Within one of these text files is a telephone number formated ###-###-#### \n",
      "Use the Python os module and regular expressions to iterate through each file, open it, and search for a telephone number.\n",
      "Good luck!\n"
     ]
    }
   ],
   "source": [
    "with open(\"unzip_me_for_instructions\\\\extracted_content\\\\Instructions.txt\") as instructions:\n",
    "    print(instructions.read())"
   ]
  },
  {
   "cell_type": "code",
   "execution_count": 89,
   "metadata": {},
   "outputs": [
    {
     "name": "stdout",
     "output_type": "stream",
     "text": [
      "Currently looking at folder: unzip_me_for_instructions\\extracted_content\n",
      "\n",
      "\n",
      "THE SUBFOLDERS ARE: \n",
      "\t Subfolder: Five\n",
      "\t Subfolder: Four\n",
      "\t Subfolder: One\n",
      "\t Subfolder: Three\n",
      "\t Subfolder: Two\n",
      "\n",
      "\n",
      "THE FILES ARE: \n",
      "\t Searching File: Instructions.txt\n",
      "\n",
      "\n",
      "Currently looking at folder: unzip_me_for_instructions\\extracted_content\\Five\n",
      "\n",
      "\n",
      "THE SUBFOLDERS ARE: \n",
      "\n",
      "\n",
      "THE FILES ARE: \n",
      "\t Searching File: AEITMYIRQLP.txt\n",
      "\t Searching File: APJKSRITGGX.txt\n",
      "\t Searching File: AQKATDFGXTS.txt\n",
      "\t Searching File: ARLKFCWIAJE.txt\n",
      "\t Searching File: AXJGVPVEFAS.txt\n",
      "\t Searching File: BNUQEHCFRTG.txt\n",
      "\t Searching File: BSKJDRNEZQM.txt\n",
      "\t Searching File: BTYWAHLHKBM.txt\n",
      "\t Searching File: BUGKBZWRRVI.txt\n",
      "\t Searching File: BVBURZZCAPR.txt\n",
      "\t Searching File: CAHBEVSVDDN.txt\n",
      "\t Searching File: COMGMZBJAYE.txt\n",
      "\t Searching File: CRFSDGYFSHA.txt\n",
      "\t Searching File: CSCLFZCDYYC.txt\n",
      "\t Searching File: CXBVCTRBBIE.txt\n",
      "\t Searching File: DDLASODUVPX.txt\n",
      "\t Searching File: DHZBAAYEADM.txt\n",
      "\t Searching File: DQPZQLBCJYP.txt\n",
      "\t Searching File: DYOPIIVMZOO.txt\n",
      "\t Searching File: DZUWWXYIAEL.txt\n",
      "\t Searching File: EAAOEPSAWMQ.txt\n",
      "\t Searching File: EIPWXMQZJKU.txt\n",
      "\t Searching File: ESIZWBHMGDP.txt\n",
      "\t Searching File: ETCUEXWNBCF.txt\n",
      "\t Searching File: EYTCGIOYWIW.txt\n",
      "\n",
      "\n",
      "Currently looking at folder: unzip_me_for_instructions\\extracted_content\\Four\n",
      "\n",
      "\n",
      "THE SUBFOLDERS ARE: \n",
      "\n",
      "\n",
      "THE FILES ARE: \n",
      "\t Searching File: ECIOBYCDVFI.txt\n",
      "\t Searching File: EMTGPSXQEJX.txt\n",
      "\t Searching File: EPRNUHRSESC.txt\n",
      "\t Searching File: ESDIZXHYCVY.txt\n",
      "\t Searching File: EXVQSVBQQQH.txt\n",
      "\t Searching File: QCTCKDIBBVG.txt\n",
      "\t Searching File: QCWCFLKNZMN.txt\n",
      "\t Searching File: QDDETWBHJYC.txt\n",
      "\t Searching File: QTDYYIFPHAU.txt\n",
      "\t Searching File: QVNJULGXNUM.txt\n",
      "\t Searching File: REAXWSOIQDY.txt\n",
      "\t Searching File: ROICPTWKXDX.txt\n",
      "\t Searching File: RSXOTNGKBML.txt\n",
      "\t Searching File: RXDARIDGKBF.txt\n",
      "\t Searching File: RYNXFYXMKHG.txt\n",
      "\t Searching File: TAKNAVDMZKV.txt\n",
      "\t Searching File: THPNEGKTJWI.txt\n",
      "\t Searching File: TJFMLJODVAD.txt\n",
      "\t Searching File: TKCZSFQNJTX.txt\n",
      "\t Searching File: TWUOYFCCYBQ.txt\n",
      "\t Searching File: WFSKPTXPFCH.txt\n",
      "\t Searching File: WHTOHQUWXIN.txt\n",
      "\t Searching File: WNJISWPEBRS.txt\n",
      "\t Searching File: WXDJDOGZEHN.txt\n",
      "\t Searching File: WYDLGSGGXKV.txt\n",
      "\n",
      "\n",
      "Currently looking at folder: unzip_me_for_instructions\\extracted_content\\One\n",
      "\n",
      "\n",
      "THE SUBFOLDERS ARE: \n",
      "\n",
      "\n",
      "THE FILES ARE: \n",
      "\t Searching File: HDOHZHFSTTK.txt\n",
      "\t Searching File: HFUTPPAXDIS.txt\n",
      "\t Searching File: HMNZTLIFGPD.txt\n",
      "\t Searching File: HRQFTHKVJTL.txt\n",
      "\t Searching File: HVUTZEVMSBW.txt\n",
      "\t Searching File: JDLRVFCXYLU.txt\n",
      "\t Searching File: JEHBLZPUPSP.txt\n",
      "\t Searching File: JLTXKIGCWDL.txt\n",
      "\t Searching File: JQUOBKFUACN.txt\n",
      "\t Searching File: JTHSNBNPQSE.txt\n",
      "\t Searching File: KCXGNQCZBLO.txt\n",
      "\t Searching File: KFIUZFERLET.txt\n",
      "\t Searching File: KMMLGJOWLGI.txt\n",
      "\t Searching File: KNBSKDREHQU.txt\n",
      "\t Searching File: KTXDHIOKAUI.txt\n",
      "\t Searching File: LDGOCUQJNNS.txt\n",
      "\t Searching File: LFEATJAAYDC.txt\n",
      "\t Searching File: LHODFIKVTQA.txt\n",
      "\t Searching File: LIFDHOFKWOI.txt\n",
      "\t Searching File: LPNDVDXPZIG.txt\n",
      "\t Searching File: PDJMSMNKIRM.txt\n",
      "\t Searching File: PHWAVPEKAER.txt\n",
      "\t Searching File: PLYCGPVEAWO.txt\n",
      "\t Searching File: PQNVCVJINAR.txt\n",
      "\t Searching File: PTOBBCJYURJ.txt\n",
      "\n",
      "\n",
      "Currently looking at folder: unzip_me_for_instructions\\extracted_content\\Three\n",
      "\n",
      "\n",
      "THE SUBFOLDERS ARE: \n",
      "\n",
      "\n",
      "THE FILES ARE: \n",
      "\t Searching File: VAQIJTDOFUJ.txt\n",
      "\t Searching File: VCFJCGJFBIH.txt\n",
      "\t Searching File: VSXFSTABZDY.txt\n",
      "\t Searching File: VVHFVZUNLOO.txt\n",
      "\t Searching File: VVKGWLRMHLU.txt\n",
      "\t Searching File: XAJMCPEWFNI.txt\n",
      "\t Searching File: XFHJOTNPEJG.txt\n",
      "\t Searching File: XHZPVUQTXIO.txt\n",
      "\t Searching File: XJCWENFFGHB.txt\n",
      "\t Searching File: XVMPVSVYKFR.txt\n",
      "\t Searching File: YCESZHJDBXH.txt\n",
      "\t Searching File: YDQFMWXOUMW.txt\n",
      "\t Searching File: YQBIUHSUEVW.txt\n",
      "\t Searching File: YQRNCMNFFHW.txt\n",
      "\t Searching File: YYIZGBTQHZP.txt\n",
      "\t Searching File: ZEZKKRBIZEB.txt\n",
      "\t Searching File: ZKQJXAYKPVD.txt\n",
      "\t Searching File: ZOWVXWPOGWP.txt\n",
      "\t Searching File: ZXEZRQXZNPG.txt\n",
      "\t Searching File: ZXIBJMPROKW.txt\n",
      "\n",
      "\n",
      "Currently looking at folder: unzip_me_for_instructions\\extracted_content\\Two\n",
      "\n",
      "\n",
      "THE SUBFOLDERS ARE: \n",
      "\n",
      "\n",
      "THE FILES ARE: \n",
      "\t Searching File: GKQBQRCTNNK.txt\n",
      "\t Searching File: GMMQQUBMJNR.txt\n",
      "\t Searching File: GQTJJORZBXY.txt\n",
      "\t Searching File: GTOTCIWMDBY.txt\n",
      "\t Searching File: GXYSEPAFRTP.txt\n",
      "\t Searching File: HARDNJGDRBC.txt\n",
      "\t Searching File: HEORIXOTANT.txt\n",
      "\t Searching File: HMUTDOVNYTV.txt\n",
      "\t Searching File: HMZXPBOPRAE.txt\n",
      "\t Searching File: HTOHSTYXTCO.txt\n",
      "\t Searching File: LCJZYDHBFRM.txt\n",
      "\t Searching File: LSQSTGPIGIY.txt\n",
      "\t Searching File: LULTNYAQEJG.txt\n",
      "\t Searching File: LVMBINRBJXL.txt\n",
      "\t Searching File: LYZEQCVYNEZ.txt\n",
      "\t Searching File: OHZOUOSFJQC.txt\n",
      "\t Searching File: OIHMLGMWTHL.txt\n",
      "\t Searching File: OKWFOOYTXFU.txt\n",
      "\t Searching File: OMWIMVRCMYM.txt\n",
      "\t Searching File: OYMAGXAGWHJ.txt\n",
      "\t Searching File: SIKFPPLCJDN.txt\n",
      "\t Searching File: SJMJLDGPBSJ.txt\n",
      "\t Searching File: SOFUJYXTIMK.txt\n",
      "\t Searching File: SPDZYGDHEWO.txt\n",
      "\t Searching File: SWOFXREEHWA.txt\n",
      "\n",
      "\n"
     ]
    }
   ],
   "source": [
    "phone_pattern = r'(\\d{3})-(\\d{3})-(\\d{4})'\n",
    "\n",
    "for folder , sub_folders , files in os.walk(\"unzip_me_for_instructions\\\\extracted_content\"):\n",
    "    \n",
    "    print(\"Currently looking at folder: \"+ folder)\n",
    "    print('\\n')\n",
    "    print(\"THE SUBFOLDERS ARE: \")\n",
    "    for sub_fold in sub_folders:\n",
    "        print(\"\\t Subfolder: \"+sub_fold )\n",
    "    \n",
    "    print('\\n')\n",
    "    \n",
    "    print(\"THE FILES ARE: \")\n",
    "    for f in files:\n",
    "        print(\"\\t Searching File: \"+  f)\n",
    "        with open(folder + \"\\\\\" + f) as phone_search:\n",
    "            results = re.search(phone_pattern,phone_search.read())\n",
    "            if results == None:\n",
    "                pass\n",
    "            else:\n",
    "                phone_list = \"\".join(\"The file \"+ str(f) + \" contains the phone number \"+ str(results.group()))\n",
    "            #phone_list.append(re.search(phone_pattern,phone_search.read()).group())                \n",
    "    print('\\n')"
   ]
  },
  {
   "cell_type": "code",
   "execution_count": 90,
   "metadata": {},
   "outputs": [
    {
     "data": {
      "text/plain": [
       "'The file EMTGPSXQEJX.txt contains the phone number 719-266-2837'"
      ]
     },
     "execution_count": 90,
     "metadata": {},
     "output_type": "execute_result"
    }
   ],
   "source": [
    "phone_list"
   ]
  }
 ],
 "metadata": {
  "anaconda-cloud": {},
  "kernelspec": {
   "display_name": "Python 3 (ipykernel)",
   "language": "python",
   "name": "python3"
  },
  "language_info": {
   "codemirror_mode": {
    "name": "ipython",
    "version": 3
   },
   "file_extension": ".py",
   "mimetype": "text/x-python",
   "name": "python",
   "nbconvert_exporter": "python",
   "pygments_lexer": "ipython3",
   "version": "3.9.12"
  }
 },
 "nbformat": 4,
 "nbformat_minor": 2
}
