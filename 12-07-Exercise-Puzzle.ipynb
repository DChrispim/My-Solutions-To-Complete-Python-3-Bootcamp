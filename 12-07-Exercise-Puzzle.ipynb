{
 "cells": [
  {
   "cell_type": "markdown",
   "metadata": {},
   "source": [
    "# 12-07-Exercise-Puzzle"
   ]
  },
  {
   "cell_type": "markdown",
   "metadata": {},
   "source": [
    "This is a puzzle, unzip file called 'unzip_me_for_instructions.zip', open the .txt file with Python, read the instructions and follow the tasks"
   ]
  },
  {
   "cell_type": "markdown",
   "metadata": {},
   "source": [
    "___\n",
    "## Solution\n",
    "First, we need to find and read the instructions."
   ]
  },
  {
   "cell_type": "code",
   "execution_count": 1,
   "metadata": {},
   "outputs": [],
   "source": [
    "import os\n",
    "import zipfile\n",
    "import re\n",
    "import glob"
   ]
  },
  {
   "cell_type": "code",
   "execution_count": 2,
   "metadata": {},
   "outputs": [
    {
     "name": "stdout",
     "output_type": "stream",
     "text": [
      "Good work on unzipping the file!\n",
      "You should now see 5 folders, each with a lot of random .txt files.\n",
      "Within one of these text files is a telephone number formated ###-###-#### \n",
      "Use the Python os module and regular expressions to iterate through each file, open it, and search for a telephone number.\n",
      "Good luck!\n"
     ]
    }
   ],
   "source": [
    "# directory path\n",
    "data_path = 'data\\\\12'\n",
    "zip_file_path = f\"{data_path}\\\\unzip_me_for_instructions.zip\"\n",
    "\n",
    "# Extracting the file\n",
    "zip_obj = zipfile.ZipFile(zip_file_path, 'r')\n",
    "zip_obj.extractall(data_path)\n",
    "\n",
    "# Searching for the instructions in folder and subfolder\n",
    "instructions_file = glob.glob(f\"{data_path}\\\\*\\\\Instructions*\", recursive=True)[0]\n",
    "\n",
    "# Read the instructions\n",
    "with open(instructions_file) as instructions:\n",
    "    print(instructions.read())"
   ]
  },
  {
   "cell_type": "markdown",
   "metadata": {},
   "source": [
    "Now that we have our instructions we must create a program to find the phone number inside the files."
   ]
  },
  {
   "cell_type": "code",
   "execution_count": 3,
   "metadata": {},
   "outputs": [
    {
     "name": "stdout",
     "output_type": "stream",
     "text": [
      "The file EMTGPSXQEJX.txt contains the phone number 719-266-2837\n"
     ]
    }
   ],
   "source": [
    "# Define the phone number regular expression\n",
    "phone_pattern = r'(\\d{3})-(\\d{3})-(\\d{4})'\n",
    "phone_list = ''\n",
    "\n",
    "for folder , _ , files in os.walk(f\"{data_path}\\\\extracted_content\"):\n",
    "\n",
    "    for f in files:\n",
    "        with open(f'{folder}\\\\{f}') as phone_search:\n",
    "            results = re.search(phone_pattern,phone_search.read())\n",
    "            if results == None:\n",
    "                pass\n",
    "            else:\n",
    "                phone_list = f\"The file {f} contains the phone number {results.group()}\"\n",
    "                break\n",
    "print(phone_list)"
   ]
  }
 ],
 "metadata": {
  "anaconda-cloud": {},
  "kernelspec": {
   "display_name": "Python 3 (ipykernel)",
   "language": "python",
   "name": "python3"
  },
  "language_info": {
   "codemirror_mode": {
    "name": "ipython",
    "version": 3
   },
   "file_extension": ".py",
   "mimetype": "text/x-python",
   "name": "python",
   "nbconvert_exporter": "python",
   "pygments_lexer": "ipython3",
   "version": "3.8.0"
  }
 },
 "nbformat": 4,
 "nbformat_minor": 2
}
