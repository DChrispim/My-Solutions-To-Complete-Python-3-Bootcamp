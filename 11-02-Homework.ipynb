{
 "cells": [
  {
   "cell_type": "markdown",
   "metadata": {},
   "source": [
    "# 11-02-Homework"
   ]
  },
  {
   "cell_type": "markdown",
   "metadata": {},
   "source": [
    "___\n",
    "## Problem 1\n",
    "\n",
    "Create function that accepts an integer <code>n</code> and yield the squares of numbers up (including) to some number <code>n</code>"
   ]
  },
  {
   "cell_type": "code",
   "execution_count": 64,
   "metadata": {},
   "outputs": [
    {
     "name": "stdout",
     "output_type": "stream",
     "text": [
      "Overwriting programs/11-02-Homework/yield_n_squares.py\n"
     ]
    }
   ],
   "source": [
    "%%writefile \"programs/11-02-Homework/yield_n_squares.py\"\n",
    "def yield_n_squares(n):\n",
    "    for num in range(n+1):\n",
    "        yield num**2"
   ]
  },
  {
   "cell_type": "code",
   "execution_count": 65,
   "metadata": {},
   "outputs": [
    {
     "name": "stdout",
     "output_type": "stream",
     "text": [
      "Overwriting programs/11-02-Homework/test_yield_n_squares.py\n"
     ]
    }
   ],
   "source": [
    "%%writefile \"programs/11-02-Homework/test_yield_n_squares.py\"\n",
    "import unittest\n",
    "from yield_n_squares import *\n",
    "\n",
    "class TestYieldNSquares(unittest.TestCase):\n",
    "\n",
    "    def test_yield_n_squares(self):\n",
    "        result = []\n",
    "        for n in yield_n_squares(5):\n",
    "            result.append(n)\n",
    "        \n",
    "        self.assertEqual(result, [0,1,4,9,16,25])\n",
    "\n",
    "if __name__ == '__main__':\n",
    "    unittest.main()"
   ]
  },
  {
   "cell_type": "code",
   "execution_count": 66,
   "metadata": {},
   "outputs": [
    {
     "name": "stderr",
     "output_type": "stream",
     "text": [
      ".\n",
      "----------------------------------------------------------------------\n",
      "Ran 1 test in 0.000s\n",
      "\n",
      "OK\n"
     ]
    }
   ],
   "source": [
    "! python3 \"programs/11-02-Homework/test_yield_n_squares.py\""
   ]
  },
  {
   "cell_type": "markdown",
   "metadata": {},
   "source": [
    "___\n",
    "## Problem 2\n",
    "\n",
    "Create a generator that yields <code>n</code> random numbers between a low and high number (that are inputs)"
   ]
  },
  {
   "cell_type": "code",
   "execution_count": 67,
   "metadata": {},
   "outputs": [
    {
     "name": "stdout",
     "output_type": "stream",
     "text": [
      "Overwriting programs/11-02-Homework/yield_n_random.py\n"
     ]
    }
   ],
   "source": [
    "%%writefile \"programs/11-02-Homework/yield_n_random.py\"\n",
    "\n",
    "import random\n",
    "\n",
    "def yield_n_random(low_number, high_number, n_of_numbers):\n",
    "    for n in range(n_of_numbers):\n",
    "        yield random.randint(low_number,high_number)"
   ]
  },
  {
   "cell_type": "code",
   "execution_count": 68,
   "metadata": {},
   "outputs": [
    {
     "name": "stdout",
     "output_type": "stream",
     "text": [
      "Overwriting programs/11-02-Homework/test_yield_n_random.py\n"
     ]
    }
   ],
   "source": [
    "%%writefile \"programs/11-02-Homework/test_yield_n_random.py\"\n",
    "import unittest\n",
    "from yield_n_random import *\n",
    "\n",
    "class TestYieldNRandom(unittest.TestCase):\n",
    "\n",
    "    def test_yield_n_random(self):\n",
    "        random.seed(0)\n",
    "        result = []\n",
    "        for n in yield_n_random(1,4,5):\n",
    "            result.append(n)\n",
    "        \n",
    "        self.assertEqual(result, [4, 4, 1, 3, 4])\n",
    "\n",
    "if __name__ == '__main__':\n",
    "    unittest.main()"
   ]
  },
  {
   "cell_type": "code",
   "execution_count": 69,
   "metadata": {},
   "outputs": [
    {
     "name": "stderr",
     "output_type": "stream",
     "text": [
      ".\n",
      "----------------------------------------------------------------------\n",
      "Ran 1 test in 0.000s\n",
      "\n",
      "OK\n"
     ]
    }
   ],
   "source": [
    "! python3 \"programs/11-02-Homework/test_yield_n_random.py\""
   ]
  },
  {
   "cell_type": "markdown",
   "metadata": {},
   "source": [
    "___\n",
    "## Problem 3\n",
    "\n",
    "Use the <code>iter()</code> method to iterate over a string and return each letter"
   ]
  },
  {
   "cell_type": "code",
   "execution_count": 70,
   "metadata": {},
   "outputs": [
    {
     "name": "stdout",
     "output_type": "stream",
     "text": [
      "Writing programs/11-02-Homework/iter_of_string.py\n"
     ]
    }
   ],
   "source": [
    "%%writefile \"programs/11-02-Homework/iter_of_string.py\"\n",
    "\n",
    "def iter_of_string(word):\n",
    "\n",
    "    for letter in iter(word):\n",
    "        yield letter"
   ]
  },
  {
   "cell_type": "code",
   "execution_count": 75,
   "metadata": {},
   "outputs": [
    {
     "name": "stdout",
     "output_type": "stream",
     "text": [
      "Writing programs/11-02-Homework/test_iter_of_string.py\n"
     ]
    }
   ],
   "source": [
    "%%writefile \"programs/11-02-Homework/test_iter_of_string.py\"\n",
    "import unittest\n",
    "from iter_of_string import *\n",
    "\n",
    "class TestIterOfString(unittest.TestCase):\n",
    "\n",
    "    def test_iter_of_string(self):\n",
    "        word = 'hello'\n",
    "        result = []\n",
    "        for n in iter_of_string(word):\n",
    "            result.append(n)\n",
    "        \n",
    "        self.assertEqual(result, list(word))\n",
    "\n",
    "if __name__ == '__main__':\n",
    "    unittest.main()"
   ]
  },
  {
   "cell_type": "code",
   "execution_count": 76,
   "metadata": {},
   "outputs": [
    {
     "name": "stderr",
     "output_type": "stream",
     "text": [
      ".\n",
      "----------------------------------------------------------------------\n",
      "Ran 1 test in 0.000s\n",
      "\n",
      "OK\n"
     ]
    }
   ],
   "source": [
    "! python3 \"programs/11-02-Homework/test_iter_of_string.py\""
   ]
  },
  {
   "cell_type": "markdown",
   "metadata": {},
   "source": [
    "___\n",
    "## Problem 4\n",
    "Modify the previous function to only return all letters but not the letter <code>a</code>"
   ]
  },
  {
   "cell_type": "code",
   "execution_count": 83,
   "metadata": {},
   "outputs": [
    {
     "name": "stdout",
     "output_type": "stream",
     "text": [
      "Writing programs/11-02-Homework/iter_of_string_but_a.py\n"
     ]
    }
   ],
   "source": [
    "%%writefile \"programs/11-02-Homework/iter_of_string_but_a.py\"\n",
    "\n",
    "def iter_of_string_but_a(word):\n",
    "\n",
    "    letters = (letter for letter in word if letter !='a')\n",
    "    for letter in letters:\n",
    "        yield letter"
   ]
  },
  {
   "cell_type": "code",
   "execution_count": 84,
   "metadata": {},
   "outputs": [
    {
     "name": "stdout",
     "output_type": "stream",
     "text": [
      "Overwriting programs/11-02-Homework/test_iter_of_string_but_a.py\n"
     ]
    }
   ],
   "source": [
    "%%writefile \"programs/11-02-Homework/test_iter_of_string_but_a.py\"\n",
    "import unittest\n",
    "from iter_of_string_but_a import *\n",
    "\n",
    "class TestIterOfStringButA(unittest.TestCase):\n",
    "\n",
    "    def test_iter_of_string_but_a(self):\n",
    "        word = 'apple'\n",
    "        result = []\n",
    "        for n in iter_of_string_but_a(word):\n",
    "            result.append(n)\n",
    "        \n",
    "        self.assertEqual(result, list('pple'))\n",
    "\n",
    "if __name__ == '__main__':\n",
    "    unittest.main()"
   ]
  },
  {
   "cell_type": "code",
   "execution_count": 85,
   "metadata": {},
   "outputs": [
    {
     "name": "stderr",
     "output_type": "stream",
     "text": [
      ".\n",
      "----------------------------------------------------------------------\n",
      "Ran 1 test in 0.000s\n",
      "\n",
      "OK\n"
     ]
    }
   ],
   "source": [
    "! python3 \"programs/11-02-Homework/test_iter_of_string_but_a.py\""
   ]
  }
 ],
 "metadata": {
  "kernelspec": {
   "display_name": "TensorFlowGPU",
   "language": "python",
   "name": "tf_gpu"
  },
  "language_info": {
   "codemirror_mode": {
    "name": "ipython",
    "version": 3
   },
   "file_extension": ".py",
   "mimetype": "text/x-python",
   "name": "python",
   "nbconvert_exporter": "python",
   "pygments_lexer": "ipython3",
   "version": "3.8.0"
  }
 },
 "nbformat": 4,
 "nbformat_minor": 1
}
